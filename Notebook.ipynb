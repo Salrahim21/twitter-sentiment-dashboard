{
 "cells": [
  {
   "cell_type": "markdown",
   "id": "1e060fc1",
   "metadata": {},
   "source": [
    "# **1.0 Introduction**"
   ]
  },
  {
   "cell_type": "markdown",
   "id": "83653aac",
   "metadata": {},
   "source": [
    "In today’s digital age, social media has become a critical channel for customers to share their opinions, experiences, and frustrations with brands and products. Platforms like Twitter generate vast amounts of unstructured text data daily, reflecting public sentiment in real time. For businesses, monitoring and understanding this sentiment is essential to protect brand reputation, respond to customer concerns, and inform strategic decisions. However, the sheer volume and velocity of social media data make it challenging to track and analyze sentiment manually."
   ]
  },
  {
   "cell_type": "markdown",
   "id": "eab4906e",
   "metadata": {},
   "source": [
    "## 1.1 Project Overview"
   ]
  },
  {
   "cell_type": "markdown",
   "id": "eaaef490",
   "metadata": {},
   "source": [
    "The goal of this project is to design and implement an automated system that will determine the sentiment in tweets which are directed towards specific brands such as Borderlands, Facebook, Amazon, and Microsoft. The system will be examining a large body of tweets, determining the overall sentiment in every tweet, and labeling  into sentiment categories such as Positive, Negative, Neutral, or Irrelevant. By leveraging Natural Language Processing and machine learning, the system will help organizations gain timely insights into how the public perceives their products and services.\n",
    "\n",
    "The results from this system can be employed to provide actionable insights to key stakeholders like brand managers, marketing departments, and community managers so that they can:\n",
    "\n",
    "- Monitor public opinion about their brand or product on an ongoing basis.\n",
    "\n",
    "- Recognize future potential issues or spikes in negative sentiment.\n",
    "\n",
    "- Measure the impact of marketing initiatives or product releases.\n",
    "\n",
    "- Compare sentiment trends relative to competition.\n",
    "\n",
    "The project will make use of a labeled set of tweets for training and validation. The system's performance will be measured by how well the system will be able to classify sentiment in order to instill confidence in businesses with regard to insights produced. Ultimately, the project demonstrates how data-driven sentiment analysis can facilitate proactive decision-making in brand management and customer engagement.\n"
   ]
  },
  {
   "cell_type": "markdown",
   "id": "bb567871",
   "metadata": {},
   "source": [
    "## 1.2 The Business Stakeholder"
   ]
  },
  {
   "cell_type": "markdown",
   "id": "2a36850f",
   "metadata": {},
   "source": [
    "This project has been initiated at the request of **Interbrand**, a global leading brand consultancy that helps businesses develop, manage, and protect their brand reputation. Interbrand brand managers monitor how the public perceives their clients' brands through all forms of media, including social media sites like Twitter. With the overwhelming amount of real-time customer discussions online, Interbrand's brand managers require an automated solution that can efficiently classify sentiment in tweets that talk about their clients' services or products. \n",
    "\n",
    "The other key stakeholders are **Interbrand**'s marketing analysts and PR teams, who will utilize these findings to make campaign strategy, crisis management strategy, and competitor benchmarking reports.\n"
   ]
  },
  {
   "cell_type": "markdown",
   "id": "76a511dd",
   "metadata": {},
   "source": [
    "## 1.3 Business Understanding"
   ]
  },
  {
   "cell_type": "markdown",
   "id": "16523bf7",
   "metadata": {},
   "source": [
    "In a time where public opinion can shift in a matter of seconds, brands need to be constantly on guard for what people are saying about them online. Social networks like Twitter generate massive streams of live comment, complaint, compliment, and conversation that can influence a brand's reputation, customer loyalty, and market position.\n",
    "\n",
    "But it is not practical and scalable to track and analyze manually thousands of tweets each day. This is very manual-intensive for brand managers and consultancies like **Interbrand** who are responsible for overseeing many brands in various industries and markets. Without a reliable way of monitoring the sentiment from these discussions, businesses are at risk of missing early warning signs of negative trends, missing important customer insights, or failing to properly gauge the full effects of their campaigns.\n",
    "\n",
    "This project answers that challenge by developing an automated sentiment analysis system that is able to classify tweets mentioning a brand into precise sentiment categories: **Positive, Negative, Neutral, or Irrelevant**. Through transforming raw, unstructured text data into actionable information, this system will enable brand managers to:\n",
    "\n",
    "- Track sentiment trends over time.\n",
    "\n",
    "- Identify sudden spikes in negative or positive remarks.\n",
    "\n",
    "- Respond quickly to breaking issues or crises.\n",
    "\n",
    "- Use data-driven insights to make decisions regarding communication strategies, product development, and customer engagement.\n",
    "\n",
    "Ultimately, the outcome is to allow brand managers to make timely, data-informed decisions that drive better decision-making and help them defend and build their brands in a changing digital world. By the end of this project we hope to uncover questions such as:\n",
    "\n",
    "- What is the overall sentiment towards the brand(s) on Twitter over a given period?\n",
    "\n",
    "- Are there specific topics, events, or product launches that cause spikes in positive or negative sentiment?\n",
    "\n",
    "- Can sudden surges in negative sentiment be detected early enough to enable timely response by customer support or PR teams?\n"
   ]
  },
  {
   "cell_type": "markdown",
   "id": "79a50190",
   "metadata": {},
   "source": [
    "## 1.4 Project Objectives "
   ]
  },
  {
   "cell_type": "markdown",
   "id": "f2bf7339",
   "metadata": {},
   "source": [
    "The primary objective of this project is to develop an **automated sentiment analysis system** capable of classifying tweets that mention specific brands into distinct sentiment categories: **Positive, Negative, Neutral, or Irrelevant**. This will enable **brand managers and consultancies** like Interbrand to transform large volumes of unstructured social media data into actionable insights.\n",
    "\n",
    "To achieve this, the project will pursue the following specific objectives:\n",
    "\n",
    "- Build and train a reliable sentiment classification model using a labeled dataset of tweets that mention various brands, including Borderlands, Facebook, Amazon, and others.\n",
    "\n",
    "- Validate and evaluate the model’s performance to ensure it achieves high accuracy and can generalize well to new, unseen tweets.\n",
    "\n",
    "- Provide clear, interpretable outputs that brand managers can use to monitor brand health, inform marketing and PR strategies, and respond quickly to emerging issues.\n",
    "\n",
    "- Develop recommendations for how this system could be integrated into the stakeholders’ existing workflows for continuous, real-time sentiment tracking.\n",
    "\n",
    "By fulfilling these objectives, the project aims to demonstrate how automated sentiment analysis can support proactive, data-driven brand management in an increasingly fast-paced digital environment."
   ]
  },
  {
   "cell_type": "markdown",
   "id": "341de849",
   "metadata": {},
   "source": [
    "# **2.0 Data Understanding**"
   ]
  },
  {
   "cell_type": "markdown",
   "id": "2540a67f",
   "metadata": {},
   "source": [
    "The dataset used in this project was sourced from **Kaggle’s Twitter Entity Sentiment Analysis collection**. It includes labeled tweets that refer to different brands, firms, or products, which were categorized into one of four sentiment types: **Positive, Negative, Neutral, or Irrelevant**.\n",
    "\n",
    "The dataset includes two training and validation CSV files combined, which have over 75,000 tweets. The shape and composition of this dataset are important for determining how to build a robust sentiment classification model. This section will describe salient characteristics of the data, detect any potential issues (such as class imbalance or redundant entries), and lay the foundation for the data preprocessing and modeling sections that follow."
   ]
  },
  {
   "cell_type": "markdown",
   "id": "901fbda1",
   "metadata": {},
   "source": [
    "## 2.1 Dataset Overview"
   ]
  },
  {
   "cell_type": "markdown",
   "id": "930ccc85",
   "metadata": {},
   "source": [
    "The data includes two CSV files, one for **training (twitter_training.csv)** and one for **validation (twitter_validation.csv)** ,with a total of over 75,000 tweets."
   ]
  },
  {
   "cell_type": "markdown",
   "id": "203d0713",
   "metadata": {},
   "source": [
    "**twitter_training.csv**"
   ]
  },
  {
   "cell_type": "code",
   "execution_count": null,
   "id": "bf72c73a",
   "metadata": {},
   "outputs": [
    {
     "data": {
      "application/vnd.microsoft.datawrangler.viewer.v0+json": {
       "columns": [
        {
         "name": "index",
         "rawType": "int64",
         "type": "integer"
        },
        {
         "name": "2401",
         "rawType": "int64",
         "type": "integer"
        },
        {
         "name": "Borderlands",
         "rawType": "object",
         "type": "string"
        },
        {
         "name": "Positive",
         "rawType": "object",
         "type": "string"
        },
        {
         "name": "im getting on borderlands and i will murder you all ,",
         "rawType": "object",
         "type": "unknown"
        }
       ],
       "ref": "66b35326-4b11-4028-9b72-62d765d1d4cf",
       "rows": [
        [
         "0",
         "2401",
         "Borderlands",
         "Positive",
         "I am coming to the borders and I will kill you all,"
        ],
        [
         "1",
         "2401",
         "Borderlands",
         "Positive",
         "im getting on borderlands and i will kill you all,"
        ],
        [
         "2",
         "2401",
         "Borderlands",
         "Positive",
         "im coming on borderlands and i will murder you all,"
        ],
        [
         "3",
         "2401",
         "Borderlands",
         "Positive",
         "im getting on borderlands 2 and i will murder you me all,"
        ],
        [
         "4",
         "2401",
         "Borderlands",
         "Positive",
         "im getting into borderlands and i can murder you all,"
        ],
        [
         "5",
         "2402",
         "Borderlands",
         "Positive",
         "So I spent a few hours making something for fun. . . If you don't know I am a HUGE @Borderlands fan and Maya is one of my favorite characters. So I decided to make myself a wallpaper for my PC. . Here is the original image versus the creation I made :) Enjoy! pic.twitter.com/mLsI5wf9Jg"
        ],
        [
         "6",
         "2402",
         "Borderlands",
         "Positive",
         "So I spent a couple of hours doing something for fun... If you don't know that I'm a huge @ Borderlands fan and Maya is one of my favorite characters, I decided to make a wallpaper for my PC.. Here's the original picture compared to the creation I made:) Have fun! pic.twitter.com / mLsI5wf9Jg"
        ],
        [
         "7",
         "2402",
         "Borderlands",
         "Positive",
         "So I spent a few hours doing something for fun... If you don't know I'm a HUGE @ Borderlands fan and Maya is one of my favorite characters."
        ],
        [
         "8",
         "2402",
         "Borderlands",
         "Positive",
         "So I spent a few hours making something for fun. . . If you don't know I am a HUGE RhandlerR fan and Maya is one of my favorite characters. So I decided to make myself a wallpaper for my PC. . Here is the original image versus the creation I made :) Enjoy! pic.twitter.com/mLsI5wf9Jg"
        ],
        [
         "9",
         "2402",
         "Borderlands",
         "Positive",
         "2010 So I spent a few hours making something for fun. . . If you don't know I am a HUGE RhandlerR fan and Maya is one of my favorite characters. So I decided to make myself a wallpaper for my PC. . Here is the original image versus the creation I made :) Enjoy! pic.twitter.com/mLsI5wf9Jg"
        ],
        [
         "10",
         "2402",
         "Borderlands",
         "Positive",
         "was"
        ],
        [
         "11",
         "2403",
         "Borderlands",
         "Neutral",
         "Rock-Hard La Varlope, RARE & POWERFUL, HANDSOME JACKPOT, Borderlands 3 (Xbox) dlvr.it/RMTrgF  "
        ],
        [
         "12",
         "2403",
         "Borderlands",
         "Neutral",
         "Rock-Hard La Varlope, RARE & POWERFUL, HANDSOME JACKPOT, Borderlands 3 (Xbox) dlvr.it / RMTrgF"
        ],
        [
         "13",
         "2403",
         "Borderlands",
         "Neutral",
         "Rock-Hard La Varlope, RARE & POWERFUL, HANDSOME JACKPOT, Borderlands 3 (Xbox) dfr.it / RMTrgF"
        ],
        [
         "14",
         "2403",
         "Borderlands",
         "Neutral",
         "Rock-Hard La Vita, RARE BUT POWERFUL, HANDSOME JACKPOT, Borderlands 1 (Xbox) dlvr.it/RMTrgF"
        ],
        [
         "15",
         "2403",
         "Borderlands",
         "Neutral",
         "Live Rock - Hard music La la Varlope, RARE & the POWERFUL, Live HANDSOME i JACKPOT, Borderlands 3 ( Sega Xbox ) dlvr. From it / e RMTrgF"
        ],
        [
         "16",
         "2403",
         "Borderlands",
         "Neutral",
         "I-Hard like me, RARE LONDON DE, HANDSOME 2011, Borderlands 3 (Xbox) dlvr.it/RMTrgF"
        ],
        [
         "17",
         "2404",
         "Borderlands",
         "Positive",
         "that was the first borderlands session in a long time where i actually had a really satisfying combat experience. i got some really good kills"
        ],
        [
         "18",
         "2404",
         "Borderlands",
         "Positive",
         "this was the first Borderlands session in a long time where i actually had a really satisfying fighting experience. i got some really good kills"
        ],
        [
         "19",
         "2404",
         "Borderlands",
         "Positive",
         "that was the first borderlands session in a long time where i actually had a really satisfying combat experience. i got some really good kills"
        ],
        [
         "20",
         "2404",
         "Borderlands",
         "Positive",
         "that was the first borderlands session in a long time where i actually enjoyed a really satisfying combat experience. i got some rather good kills"
        ],
        [
         "21",
         "2404",
         "Borderlands",
         "Positive",
         "that I was the first real borderlands session in a nice long wait time where i actually had a really satisfying combat experience. and i got some really good kills"
        ],
        [
         "22",
         "2404",
         "Borderlands",
         "Positive",
         "that was the first borderlands session in a hot row where i actually had a really bad combat experience. i did some really good kills"
        ],
        [
         "23",
         "2405",
         "Borderlands",
         "Negative",
         "the biggest dissappoinment in my life came out a year ago fuck borderlands 3"
        ],
        [
         "24",
         "2405",
         "Borderlands",
         "Negative",
         "The biggest disappointment of my life came a year ago."
        ],
        [
         "25",
         "2405",
         "Borderlands",
         "Negative",
         "The biggest disappointment of my life came a year ago."
        ],
        [
         "26",
         "2405",
         "Borderlands",
         "Negative",
         "the biggest dissappoinment in my life coming out a year ago fuck borderlands 3"
        ],
        [
         "27",
         "2405",
         "Borderlands",
         "Negative",
         "For the biggest male dissappoinment in my life came hanging out a year time ago fuck borderlands 3"
        ],
        [
         "28",
         "2405",
         "Borderlands",
         "Negative",
         "the biggest dissappoinment in my life came back last year ago fuck borderlands last"
        ],
        [
         "29",
         "2406",
         "Borderlands",
         "Positive",
         "WE FINISHED BORDERLANDS 3 FINALLY YAS! Thank you for hanging out everyone! It was fun. I will try to stream tomorrow but if not I might so some IRL streams while awayu. We shall see. Thank you so much for the raids @mompou_mumpow @MegaMagwitch and @KfdMitch."
        ],
        [
         "30",
         "2406",
         "Borderlands",
         "Positive",
         "WE FINALLY FINALLY FIND BORDERLANDS 3 YES! Thank you all for hanging out! It was fun. I'll try to stream tomorrow, but if not, maybe some IRL streams. We'll see. Thanks for the raids @ mompou _ mumpow @ MegaMagwitch and @ KfdMitch."
        ],
        [
         "31",
         "2406",
         "Borderlands",
         "Positive",
         "Thank you for hanging up everyone! It was fun. I'll try to get a haircut tomorrow, but if it wasn't for me, some IRL streams would still be in Hawaii. We'll see. Thank you so much for the @ mompou _ mumpow @ MegaMagwife and @ fendMitch raids."
        ],
        [
         "32",
         "2406",
         "Borderlands",
         "Positive",
         "WE FINISHED BORDERLANDS 3 UPDATE YAS! Thank you for hanging out guys! It was fun. I will try to stream and even if not I might so some IRL streams while awayu. We shall go. Thank you so much for the raids @mompou_mumpow @MegaMagwitch and Hope."
        ],
        [
         "33",
         "2406",
         "Borderlands",
         "Positive",
         "WE FINISHED BORDERLANDS 3 AND FINALLY YAS! Thank you everyone for hanging out everyone! It was fun. I will try to make stream tomorrow but if not I might make so some IRL streams while awayu. 10 We never shall see. Thank you both so... much for the raids @mompou_mumpow or @MegaMagwitch and 4 @KfdMitch."
        ],
        [
         "34",
         "2406",
         "Borderlands",
         "Positive",
         "WE FINISHED BORDERLANDS 3 FINALLY YAS! Hey you for hanging out so! It was fun. I will try that stream tomorrow and if not I might use some IRL streams from awayu. We shall see. Thank you so much how many raids @mompou_mumpow did and their."
        ],
        [
         "35",
         "2407",
         "Borderlands",
         "Negative",
         "Man Gearbox really needs to fix this dissapointing drops in the new Borderlands 3 DLC cant be fine to farm bosses on Mayhem 10 to get 1 legendary drop while anywhere else i get 6-10 drops. . Really sucks alot"
        ],
        [
         "36",
         "2407",
         "Borderlands",
         "Negative",
         "Man Gearbox really needs to fix these disappointing drops in the new Borderlands 3 DLC for farm bosses on Mayhem 10 to get a legendary drop, while I get 6-10 drops elsewhere."
        ],
        [
         "37",
         "2407",
         "Borderlands",
         "Negative",
         "Man Gearbox really needs to fix this disssapointing drops in the new Borderlands 3 DLC cant be fine to farm bosses on Mayhem 10 to get 1 legendary drop while elsewhere i get 6-10 drops... Really sucks alot"
        ],
        [
         "38",
         "2407",
         "Borderlands",
         "Negative",
         "Man Bethesda really needs to fix this dissapointing drops and the new Borderlands 3 It cant be fine to farm bosses on Mayhem 10 to get 1 legendary drop while anywhere else i get 6-10 drops.. Really sucks..."
        ],
        [
         "39",
         "2407",
         "Borderlands",
         "Negative",
         "Man Gearbox really needs to fix this dissapointing drops in the completely new Borderlands 3 Days DLC i cant e be fine having to be farm bosses on Mayhem 10 to e get 1 legendary foot drop while anywhere else i get 6 - 10 drops.. It Really sucks to alot"
        ],
        [
         "40",
         "2407",
         "Borderlands",
         "Negative",
         "<unk> Gearbox really time to fix this 10 drops in the new Borderlands 3 DLC or be fine to force bosses on Mayhem 10 to get a legendary drop while everyone else i get 6-10 drops.. Really needs alot"
        ],
        [
         "41",
         "2408",
         "Borderlands",
         "Neutral",
         "Check out this epic streamer!.  "
        ],
        [
         "42",
         "2408",
         "Borderlands",
         "Neutral",
         "Check out this epic streamer!."
        ],
        [
         "43",
         "2408",
         "Borderlands",
         "Neutral",
         "Watch this epic striptease!."
        ],
        [
         "44",
         "2408",
         "Borderlands",
         "Neutral",
         "Check out our epic streamer!."
        ],
        [
         "45",
         "2408",
         "Borderlands",
         "Neutral",
         "Check out this big epic streamer!."
        ],
        [
         "46",
         "2408",
         "Borderlands",
         "Neutral",
         "Check<unk> this epic streamer!."
        ],
        [
         "47",
         "2409",
         "Borderlands",
         "Neutral",
         "Blaming Sight for Tardiness! A little bit of borderlands. I got called in early for work tomorrow so I can't make up time. Sorry my loves .  twitch.tv/punnisenpai"
        ],
        [
         "48",
         "2409",
         "Borderlands",
         "Neutral",
         "A bit of borderland. I was called to work tomorrow morning, so I can't catch up. Sorry, my love. twitch.tv / punnisenpai"
        ],
        [
         "49",
         "2409",
         "Borderlands",
         "Neutral",
         "Guilty of sobriety! A bit of a borderline. I was called to work early tomorrow, so I can't catch up."
        ]
       ],
       "shape": {
        "columns": 4,
        "rows": 74681
       }
      },
      "text/html": [
       "<div>\n",
       "<style scoped>\n",
       "    .dataframe tbody tr th:only-of-type {\n",
       "        vertical-align: middle;\n",
       "    }\n",
       "\n",
       "    .dataframe tbody tr th {\n",
       "        vertical-align: top;\n",
       "    }\n",
       "\n",
       "    .dataframe thead th {\n",
       "        text-align: right;\n",
       "    }\n",
       "</style>\n",
       "<table border=\"1\" class=\"dataframe\">\n",
       "  <thead>\n",
       "    <tr style=\"text-align: right;\">\n",
       "      <th></th>\n",
       "      <th>2401</th>\n",
       "      <th>Borderlands</th>\n",
       "      <th>Positive</th>\n",
       "      <th>im getting on borderlands and i will murder you all ,</th>\n",
       "    </tr>\n",
       "  </thead>\n",
       "  <tbody>\n",
       "    <tr>\n",
       "      <th>0</th>\n",
       "      <td>2401</td>\n",
       "      <td>Borderlands</td>\n",
       "      <td>Positive</td>\n",
       "      <td>I am coming to the borders and I will kill you...</td>\n",
       "    </tr>\n",
       "    <tr>\n",
       "      <th>1</th>\n",
       "      <td>2401</td>\n",
       "      <td>Borderlands</td>\n",
       "      <td>Positive</td>\n",
       "      <td>im getting on borderlands and i will kill you ...</td>\n",
       "    </tr>\n",
       "    <tr>\n",
       "      <th>2</th>\n",
       "      <td>2401</td>\n",
       "      <td>Borderlands</td>\n",
       "      <td>Positive</td>\n",
       "      <td>im coming on borderlands and i will murder you...</td>\n",
       "    </tr>\n",
       "    <tr>\n",
       "      <th>3</th>\n",
       "      <td>2401</td>\n",
       "      <td>Borderlands</td>\n",
       "      <td>Positive</td>\n",
       "      <td>im getting on borderlands 2 and i will murder ...</td>\n",
       "    </tr>\n",
       "    <tr>\n",
       "      <th>4</th>\n",
       "      <td>2401</td>\n",
       "      <td>Borderlands</td>\n",
       "      <td>Positive</td>\n",
       "      <td>im getting into borderlands and i can murder y...</td>\n",
       "    </tr>\n",
       "    <tr>\n",
       "      <th>...</th>\n",
       "      <td>...</td>\n",
       "      <td>...</td>\n",
       "      <td>...</td>\n",
       "      <td>...</td>\n",
       "    </tr>\n",
       "    <tr>\n",
       "      <th>74676</th>\n",
       "      <td>9200</td>\n",
       "      <td>Nvidia</td>\n",
       "      <td>Positive</td>\n",
       "      <td>Just realized that the Windows partition of my...</td>\n",
       "    </tr>\n",
       "    <tr>\n",
       "      <th>74677</th>\n",
       "      <td>9200</td>\n",
       "      <td>Nvidia</td>\n",
       "      <td>Positive</td>\n",
       "      <td>Just realized that my Mac window partition is ...</td>\n",
       "    </tr>\n",
       "    <tr>\n",
       "      <th>74678</th>\n",
       "      <td>9200</td>\n",
       "      <td>Nvidia</td>\n",
       "      <td>Positive</td>\n",
       "      <td>Just realized the windows partition of my Mac ...</td>\n",
       "    </tr>\n",
       "    <tr>\n",
       "      <th>74679</th>\n",
       "      <td>9200</td>\n",
       "      <td>Nvidia</td>\n",
       "      <td>Positive</td>\n",
       "      <td>Just realized between the windows partition of...</td>\n",
       "    </tr>\n",
       "    <tr>\n",
       "      <th>74680</th>\n",
       "      <td>9200</td>\n",
       "      <td>Nvidia</td>\n",
       "      <td>Positive</td>\n",
       "      <td>Just like the windows partition of my Mac is l...</td>\n",
       "    </tr>\n",
       "  </tbody>\n",
       "</table>\n",
       "<p>74681 rows × 4 columns</p>\n",
       "</div>"
      ],
      "text/plain": [
       "       2401  Borderlands  Positive  \\\n",
       "0      2401  Borderlands  Positive   \n",
       "1      2401  Borderlands  Positive   \n",
       "2      2401  Borderlands  Positive   \n",
       "3      2401  Borderlands  Positive   \n",
       "4      2401  Borderlands  Positive   \n",
       "...     ...          ...       ...   \n",
       "74676  9200       Nvidia  Positive   \n",
       "74677  9200       Nvidia  Positive   \n",
       "74678  9200       Nvidia  Positive   \n",
       "74679  9200       Nvidia  Positive   \n",
       "74680  9200       Nvidia  Positive   \n",
       "\n",
       "      im getting on borderlands and i will murder you all ,  \n",
       "0      I am coming to the borders and I will kill you...     \n",
       "1      im getting on borderlands and i will kill you ...     \n",
       "2      im coming on borderlands and i will murder you...     \n",
       "3      im getting on borderlands 2 and i will murder ...     \n",
       "4      im getting into borderlands and i can murder y...     \n",
       "...                                                  ...     \n",
       "74676  Just realized that the Windows partition of my...     \n",
       "74677  Just realized that my Mac window partition is ...     \n",
       "74678  Just realized the windows partition of my Mac ...     \n",
       "74679  Just realized between the windows partition of...     \n",
       "74680  Just like the windows partition of my Mac is l...     \n",
       "\n",
       "[74681 rows x 4 columns]"
      ]
     },
     "execution_count": 1,
     "metadata": {},
     "output_type": "execute_result"
    }
   ],
   "source": [
    "import pandas as pd\n",
    "\n",
    "# Load the training CSV file\n",
    "file_path = 'data/twitter_training.csv'\n",
    "df = pd.read_csv(file_path)\n",
    "df"
   ]
  },
  {
   "cell_type": "markdown",
   "id": "5cfe72ca",
   "metadata": {},
   "source": [
    "**twitter_validation**"
   ]
  },
  {
   "cell_type": "code",
   "execution_count": 5,
   "id": "140d116c",
   "metadata": {},
   "outputs": [
    {
     "data": {
      "application/vnd.microsoft.datawrangler.viewer.v0+json": {
       "columns": [
        {
         "name": "index",
         "rawType": "int64",
         "type": "integer"
        },
        {
         "name": "3364",
         "rawType": "int64",
         "type": "integer"
        },
        {
         "name": "Facebook",
         "rawType": "object",
         "type": "string"
        },
        {
         "name": "Irrelevant",
         "rawType": "object",
         "type": "string"
        },
        {
         "name": "I mentioned on Facebook that I was struggling for motivation to go for a run the other day, which has been translated by Tom’s great auntie as ‘Hayley can’t get out of bed’ and told to his grandma, who now thinks I’m a lazy, terrible person 🤣",
         "rawType": "object",
         "type": "string"
        }
       ],
       "ref": "2e2ad609-ab50-4acd-b0b8-824376689c72",
       "rows": [
        [
         "0",
         "352",
         "Amazon",
         "Neutral",
         "BBC News - Amazon boss Jeff Bezos rejects claims company acted like a 'drug dealer' bbc.co.uk/news/av/busine…"
        ],
        [
         "1",
         "8312",
         "Microsoft",
         "Negative",
         "@Microsoft Why do I pay for WORD when it functions so poorly on my @SamsungUS Chromebook? 🙄"
        ],
        [
         "2",
         "4371",
         "CS-GO",
         "Negative",
         "CSGO matchmaking is so full of closet hacking, it's a truly awful game."
        ],
        [
         "3",
         "4433",
         "Google",
         "Neutral",
         "Now the President is slapping Americans in the face that he really did commit an unlawful act after his  acquittal! From Discover on Google vanityfair.com/news/2020/02/t…"
        ],
        [
         "4",
         "6273",
         "FIFA",
         "Negative",
         "Hi @EAHelp I’ve had Madeleine McCann in my cellar for the past 13 years and the little sneaky thing just escaped whilst I was loading up some fifa points, she took my card and I’m having to use my paypal account but it isn’t working, can you help me resolve it please?"
        ],
        [
         "5",
         "7925",
         "MaddenNFL",
         "Positive",
         "Thank you @EAMaddenNFL!! \r\n\r\nNew TE Austin Hooper in the ORANGE & BROWN!! \r\n\r\n#Browns | @AustinHooper18 \r\n\r\n pic.twitter.com/GRg4xzFKOn"
        ],
        [
         "6",
         "11332",
         "TomClancysRainbowSix",
         "Positive",
         "Rocket League, Sea of Thieves or Rainbow Six: Siege🤔? I love playing all three on stream but which is the best? #stream #twitch #RocketLeague #SeaOfThieves #RainbowSixSiege #follow"
        ],
        [
         "7",
         "1107",
         "AssassinsCreed",
         "Positive",
         "my ass still knee-deep in Assassins Creed Odyssey with no way out anytime soon lmao"
        ],
        [
         "8",
         "2069",
         "CallOfDuty",
         "Negative",
         "FIX IT JESUS ! Please FIX IT ! What In the world is going on here.  @PlayStation @AskPlayStation @Playstationsup @Treyarch @CallofDuty negative 345 silver wolf error code pic.twitter.com/ziRyhrf59Q"
        ],
        [
         "9",
         "3185",
         "Dota2",
         "Positive",
         "The professional dota 2 scene is fucking exploding and I completely welcome it.\r\n\r\nGet the garbage out."
        ],
        [
         "10",
         "1172",
         "AssassinsCreed",
         "Positive",
         "Itching to assassinate \r\n\r\n#TCCGif #AssassinsCreedBlackFlag #AssassinsCreed #TheCapturedCollective pic.twitter.com/vv8MOGtCjw"
        ],
        [
         "11",
         "11783",
         "Verizon",
         "Negative",
         "@FredTJoseph hey fred, Comcast cut the cable and now Verizon stays calling me to shut that too pic.twitter.com/CPWSrmueDg"
        ],
        [
         "12",
         "4286",
         "CS-GO",
         "Neutral",
         "CSGO WIngman (Im Silver dont bully) twitch.tv/lprezh"
        ],
        [
         "13",
         "8431",
         "NBA2K",
         "Negative",
         "@NBA2K game sucks... down by 2 with 38 seconds left and my team intentionally fouls"
        ],
        [
         "14",
         "9135",
         "Nvidia",
         "Positive",
         "Congrats to the NVIDIA NeMo team for the 1.0.0 release candidate!\r\nReally excited to see NeMo embracing Hydra as the way to take control over the configuration madness that is machine learning! :)"
        ],
        [
         "15",
         "4822",
         "GrandTheftAuto(GTA)",
         "Positive",
         "yeah and it’s fun"
        ],
        [
         "16",
         "3068",
         "Dota2",
         "Negative",
         "fuck my life 😆"
        ],
        [
         "17",
         "10537",
         "RedDeadRedemption(RDR)",
         "Positive",
         "happy birthday red dead redemption that shit changed my life what a crazy experience"
        ],
        [
         "18",
         "8056",
         "Microsoft",
         "Negative",
         "What does that say about Microsoft hardware & software security - The Man gets hacked"
        ],
        [
         "19",
         "2131",
         "CallOfDuty",
         "Negative",
         "The new @CallofDuty for ps5 is 🔥🔥🔥🔥\r\nOh God 😭😍"
        ],
        [
         "20",
         "5450",
         "Hearthstone",
         "Neutral",
         "Anyone that plays a bad luck albatross deck in hearthstone is a literal cop. \r\n\r\nFucking fun police. pic.twitter.com/jY6TRq351e"
        ],
        [
         "21",
         "2286",
         "CallOfDuty",
         "Irrelevant",
         "Call of duty warzone (livestream) w/ subs #Warzone youtu.be/7BhH_pjOMU4 via @YouTube Please come watch this AMAZING Call of Duty Warzone stream from this AMAZING streamer! It'd be really, really nice to give him some views and likes as well! 😀 #COD #CallofDuty #Warzone"
        ],
        [
         "22",
         "4038",
         "CS-GO",
         "Negative",
         "Finally played Rainbow Six Siege for the first time... I have to admit, I prefer it over pulling my hair out in CSGO any day."
        ],
        [
         "23",
         "526",
         "ApexLegends",
         "Neutral",
         "Umm @PlayApex  when I died it said Bug This pic.twitter.com/bzMHzbadOF"
        ],
        [
         "24",
         "8977",
         "Nvidia",
         "Neutral",
         "#gtc20 -  nice, motivational, and very accessible Nvidia/AI product fair + related tech talks\r\nnvidia.com/en-us/gtc/keyn…\r\ninteresting interaction/social activities: braindates, dinner with strangers, ...  and free attendance for universities: reg.rainfocus.com/flow/nvidia/gt…"
        ],
        [
         "25",
         "11995",
         "Verizon",
         "Negative",
         "Yo! @Verizon just added a $120 'fee' to my account under #COVID19 protection without my permission and I am forced to pay it! Check your bills carefully!"
        ],
        [
         "26",
         "9449",
         "Overwatch",
         "Irrelevant",
         "They might not be the last team that has to make this difficult decision. #update #overwatchleague #nyxl #overwatch #overwatch2 #blizzard #games #lockdown pic.twitter.com/dI1HTl4mcV"
        ],
        [
         "27",
         "10193",
         "PlayerUnknownsBattlegrounds(PUBG)",
         "Irrelevant",
         "Best squad yet#pubg #pubgmobile #pubgkenya instagram.com/p/B-Obt_eAA4f/…"
        ],
        [
         "28",
         "2419",
         "Borderlands",
         "Negative",
         "@Borderlands how do I submit a complaint? Your CEO isn't paying his staff their bonuses."
        ],
        [
         "29",
         "8857",
         "Nvidia",
         "Positive",
         "Watching NVIDIA position itself as not just a leading hardware manufacturer but also providing meaningful software to consumers is a remarkable thing of beauty. What an incredibly lead company with clear focus and goals. Well done @nvidia."
        ],
        [
         "30",
         "9704",
         "PlayStation5(PS5)",
         "Positive",
         "I don’t see how this looks like as Xbox controller but y’all will say anything. Anyway this is fire."
        ],
        [
         "31",
         "7024",
         "johnson&johnson",
         "Negative",
         "Johnson & Johnson, knowingly sold baby powder containing asbestos for decades and are now tasked with producing #COVID19 #vaccine... along with corporate criminals #Glaxosmithkline - who received the 2nd largest fine in corporate history for their various crimes. Trust them? 😳"
        ],
        [
         "32",
         "8842",
         "Nvidia",
         "Positive",
         "The things I would do for a @nvidia 3090... unspeakable! 🧐"
        ],
        [
         "33",
         "6650",
         "Fortnite",
         "Negative",
         "Fortnite is running like ass.. fps drops everywhere wtf?"
        ],
        [
         "34",
         "2337",
         "CallOfDuty",
         "Neutral",
         "Great play dude , what a good optic for the mk2 Carbine too 👌"
        ],
        [
         "35",
         "10589",
         "RedDeadRedemption(RDR)",
         "Neutral",
         "I got the horses in the back #PS4live (Red Dead Redemption 2)  live at youtu.be/9BVKh67OaEI"
        ],
        [
         "36",
         "12997",
         "Xbox(Xseries)",
         "Irrelevant",
         "This is a really disappointing move by Remedy. Bought Control day one with the season pass but will only get the PS5 upgrade if I rebuy everything again repackaged in the Ultimate Edition??"
        ],
        [
         "37",
         "807",
         "AssassinsCreed",
         "Positive",
         "Just finished Assassins Creed Odyssey through @Shadow_Official @Shadow_NA from the beginning to the end. Thanks for the amazing gaming experience on your service 👏"
        ],
        [
         "38",
         "11229",
         "TomClancysRainbowSix",
         "Neutral",
         "Solo Q and this freak is spinning as fast as he can to lower the FPS. \r\nI thought they took this bs out\r\n\r\n@Rainbow6Game https://t.co/mlvHMu4qeZ"
        ],
        [
         "39",
         "2366",
         "CallOfDuty",
         "Positive",
         "Our eldest has spent so long playing this new Call of Duty game, I’m not convinced he even knows what day it is, let alone how long lockdown has lasted. I’d normally object, but I think I’d rather deal with that, than him being frustrated about being stuck at home."
        ],
        [
         "40",
         "9268",
         "Overwatch",
         "Neutral",
         "//The Corruption and Knocking up of Overwatch Babes is a serious Mood atm... pic.twitter.com/QNy4kmgBLV"
        ],
        [
         "41",
         "2216",
         "CallOfDuty",
         "Neutral",
         "@PlayCODMobile @M2Games2 i love the call of duty, more unfortunately i'm having a lot of audio bug, every time i'm playing the BR mode of the game, the audio just stops, then i have to close it and open dnv the device i'm using is iOS."
        ],
        [
         "42",
         "316",
         "Amazon",
         "Neutral",
         "Amazon stops accepting new online grocery customers as it cuts hours at Whole Foods stores dailymail.co.uk/news/article-8… https://t.co/jn7OMaLq3n"
        ],
        [
         "43",
         "1985",
         "CallOfDutyBlackopsColdWar",
         "Positive",
         "Not gonna lie that Black Ops cold war trailer was probably the best COD teaser I have ever seen"
        ],
        [
         "44",
         "11378",
         "TomClancysRainbowSix",
         "Neutral",
         "MELUSI 4k are you shocked! @Justhoneybadger @simmyster06 @walkerpool @Mdassassin007 @OWahid65 #Rainbowsixsiege pic.twitter.com/0ACuQjtvGL"
        ],
        [
         "45",
         "5207",
         "Hearthstone",
         "Negative",
         "Never popped the ice block #Hearthstone pic.twitter.com/BCsZlhJHPF"
        ],
        [
         "46",
         "7048",
         "johnson&johnson",
         "Negative",
         "You mean the same Johnson & Johnson that suppressed reports of asbestos contamination in their talc products for decades??? Wonder how many died??? And Birx says; \"Randomized controlled studies show NO evidence of improved outcome with HCQ.\" LIAR???\r\nyoutu.be/77TMszubRU4"
        ],
        [
         "47",
         "2274",
         "CallOfDuty",
         "Negative",
         "I’m addicted to call of duty mobile😅"
        ],
        [
         "48",
         "13197",
         "Xbox(Xseries)",
         "Neutral",
         "This could go very well...or horribly wrong."
        ],
        [
         "49",
         "9488",
         "Overwatch",
         "Positive",
         "So yesterday, I decided to go back to Overwatch... and I forgot just how much I loved playing it. Now all I want to do is play it and do nothing else >.< I mean, the event is on atm.. gotta get me that Pharah skin as I have Anas already! 💛"
        ]
       ],
       "shape": {
        "columns": 4,
        "rows": 999
       }
      },
      "text/html": [
       "<div>\n",
       "<style scoped>\n",
       "    .dataframe tbody tr th:only-of-type {\n",
       "        vertical-align: middle;\n",
       "    }\n",
       "\n",
       "    .dataframe tbody tr th {\n",
       "        vertical-align: top;\n",
       "    }\n",
       "\n",
       "    .dataframe thead th {\n",
       "        text-align: right;\n",
       "    }\n",
       "</style>\n",
       "<table border=\"1\" class=\"dataframe\">\n",
       "  <thead>\n",
       "    <tr style=\"text-align: right;\">\n",
       "      <th></th>\n",
       "      <th>3364</th>\n",
       "      <th>Facebook</th>\n",
       "      <th>Irrelevant</th>\n",
       "      <th>I mentioned on Facebook that I was struggling for motivation to go for a run the other day, which has been translated by Tom’s great auntie as ‘Hayley can’t get out of bed’ and told to his grandma, who now thinks I’m a lazy, terrible person 🤣</th>\n",
       "    </tr>\n",
       "  </thead>\n",
       "  <tbody>\n",
       "    <tr>\n",
       "      <th>0</th>\n",
       "      <td>352</td>\n",
       "      <td>Amazon</td>\n",
       "      <td>Neutral</td>\n",
       "      <td>BBC News - Amazon boss Jeff Bezos rejects clai...</td>\n",
       "    </tr>\n",
       "    <tr>\n",
       "      <th>1</th>\n",
       "      <td>8312</td>\n",
       "      <td>Microsoft</td>\n",
       "      <td>Negative</td>\n",
       "      <td>@Microsoft Why do I pay for WORD when it funct...</td>\n",
       "    </tr>\n",
       "    <tr>\n",
       "      <th>2</th>\n",
       "      <td>4371</td>\n",
       "      <td>CS-GO</td>\n",
       "      <td>Negative</td>\n",
       "      <td>CSGO matchmaking is so full of closet hacking,...</td>\n",
       "    </tr>\n",
       "    <tr>\n",
       "      <th>3</th>\n",
       "      <td>4433</td>\n",
       "      <td>Google</td>\n",
       "      <td>Neutral</td>\n",
       "      <td>Now the President is slapping Americans in the...</td>\n",
       "    </tr>\n",
       "    <tr>\n",
       "      <th>4</th>\n",
       "      <td>6273</td>\n",
       "      <td>FIFA</td>\n",
       "      <td>Negative</td>\n",
       "      <td>Hi @EAHelp I’ve had Madeleine McCann in my cel...</td>\n",
       "    </tr>\n",
       "    <tr>\n",
       "      <th>...</th>\n",
       "      <td>...</td>\n",
       "      <td>...</td>\n",
       "      <td>...</td>\n",
       "      <td>...</td>\n",
       "    </tr>\n",
       "    <tr>\n",
       "      <th>994</th>\n",
       "      <td>4891</td>\n",
       "      <td>GrandTheftAuto(GTA)</td>\n",
       "      <td>Irrelevant</td>\n",
       "      <td>⭐️ Toronto is the arts and culture capital of ...</td>\n",
       "    </tr>\n",
       "    <tr>\n",
       "      <th>995</th>\n",
       "      <td>4359</td>\n",
       "      <td>CS-GO</td>\n",
       "      <td>Irrelevant</td>\n",
       "      <td>tHIS IS ACTUALLY A GOOD MOVE TOT BRING MORE VI...</td>\n",
       "    </tr>\n",
       "    <tr>\n",
       "      <th>996</th>\n",
       "      <td>2652</td>\n",
       "      <td>Borderlands</td>\n",
       "      <td>Positive</td>\n",
       "      <td>Today sucked so it’s time to drink wine n play...</td>\n",
       "    </tr>\n",
       "    <tr>\n",
       "      <th>997</th>\n",
       "      <td>8069</td>\n",
       "      <td>Microsoft</td>\n",
       "      <td>Positive</td>\n",
       "      <td>Bought a fraction of Microsoft today. Small wins.</td>\n",
       "    </tr>\n",
       "    <tr>\n",
       "      <th>998</th>\n",
       "      <td>6960</td>\n",
       "      <td>johnson&amp;johnson</td>\n",
       "      <td>Neutral</td>\n",
       "      <td>Johnson &amp; Johnson to stop selling talc baby po...</td>\n",
       "    </tr>\n",
       "  </tbody>\n",
       "</table>\n",
       "<p>999 rows × 4 columns</p>\n",
       "</div>"
      ],
      "text/plain": [
       "     3364             Facebook  Irrelevant  \\\n",
       "0     352               Amazon     Neutral   \n",
       "1    8312            Microsoft    Negative   \n",
       "2    4371                CS-GO    Negative   \n",
       "3    4433               Google     Neutral   \n",
       "4    6273                 FIFA    Negative   \n",
       "..    ...                  ...         ...   \n",
       "994  4891  GrandTheftAuto(GTA)  Irrelevant   \n",
       "995  4359                CS-GO  Irrelevant   \n",
       "996  2652          Borderlands    Positive   \n",
       "997  8069            Microsoft    Positive   \n",
       "998  6960      johnson&johnson     Neutral   \n",
       "\n",
       "    I mentioned on Facebook that I was struggling for motivation to go for a run the other day, which has been translated by Tom’s great auntie as ‘Hayley can’t get out of bed’ and told to his grandma, who now thinks I’m a lazy, terrible person 🤣  \n",
       "0    BBC News - Amazon boss Jeff Bezos rejects clai...                                                                                                                                                                                                  \n",
       "1    @Microsoft Why do I pay for WORD when it funct...                                                                                                                                                                                                  \n",
       "2    CSGO matchmaking is so full of closet hacking,...                                                                                                                                                                                                  \n",
       "3    Now the President is slapping Americans in the...                                                                                                                                                                                                  \n",
       "4    Hi @EAHelp I’ve had Madeleine McCann in my cel...                                                                                                                                                                                                  \n",
       "..                                                 ...                                                                                                                                                                                                  \n",
       "994  ⭐️ Toronto is the arts and culture capital of ...                                                                                                                                                                                                  \n",
       "995  tHIS IS ACTUALLY A GOOD MOVE TOT BRING MORE VI...                                                                                                                                                                                                  \n",
       "996  Today sucked so it’s time to drink wine n play...                                                                                                                                                                                                  \n",
       "997  Bought a fraction of Microsoft today. Small wins.                                                                                                                                                                                                  \n",
       "998  Johnson & Johnson to stop selling talc baby po...                                                                                                                                                                                                  \n",
       "\n",
       "[999 rows x 4 columns]"
      ]
     },
     "execution_count": 5,
     "metadata": {},
     "output_type": "execute_result"
    }
   ],
   "source": [
    "# Load the validation CSV file \n",
    "val_df = pd.read_csv('Data/twitter_validation.csv')\n",
    "val_df"
   ]
  },
  {
   "cell_type": "code",
   "execution_count": null,
   "id": "240830f5",
   "metadata": {},
   "outputs": [
    {
     "data": {
      "text/plain": [
       "Index(['2401', 'Borderlands', 'Positive',\n",
       "       'im getting on borderlands and i will murder you all ,'],\n",
       "      dtype='object')"
      ]
     },
     "execution_count": 3,
     "metadata": {},
     "output_type": "execute_result"
    }
   ],
   "source": [
    "# Check the columns of the training DataFrame\n",
    "df.columns"
   ]
  },
  {
   "cell_type": "code",
   "execution_count": null,
   "id": "bcbe9dfb",
   "metadata": {},
   "outputs": [
    {
     "data": {
      "text/plain": [
       "Index(['3364', 'Facebook', 'Irrelevant',\n",
       "       'I mentioned on Facebook that I was struggling for motivation to go for a run the other day, which has been translated by Tom’s great auntie as ‘Hayley can’t get out of bed’ and told to his grandma, who now thinks I’m a lazy, terrible person 🤣'],\n",
       "      dtype='object')"
      ]
     },
     "execution_count": 6,
     "metadata": {},
     "output_type": "execute_result"
    }
   ],
   "source": [
    "# Check the columns of the validation DataFrame\n",
    "val_df.columns"
   ]
  },
  {
   "cell_type": "code",
   "execution_count": 7,
   "id": "eff534fc",
   "metadata": {},
   "outputs": [
    {
     "name": "stdout",
     "output_type": "stream",
     "text": [
      "Index(['ID', 'Entity', 'Sentiment', 'Text'], dtype='object')\n",
      "Index(['ID', 'Entity', 'Sentiment', 'Text'], dtype='object')\n"
     ]
    }
   ],
   "source": [
    "#Change the column names to match the expected format\n",
    "\n",
    "df.columns = ['ID', 'Entity', 'Sentiment', 'Text']\n",
    "val_df.columns = ['ID', 'Entity', 'Sentiment', 'Text']\n",
    "\n",
    "# Display the updated columns\n",
    "print(df.columns)\n",
    "print(val_df.columns)"
   ]
  },
  {
   "cell_type": "markdown",
   "id": "69f54e4a",
   "metadata": {},
   "source": [
    "## 2.2 Data Dictionary "
   ]
  },
  {
   "cell_type": "markdown",
   "id": "c0a78ffc",
   "metadata": {},
   "source": [
    "- **ID**: A unique identifier for the tweet.\n",
    "\n",
    "- **Entity**: The brand, company, or product mentioned (e.g., Borderlands, Facebook, Amazon).\n",
    "\n",
    "- **Sentiment**: The sentiment label assigned to the tweet.\n",
    "\n",
    "- **Tweet Text**: The actual tweet content, representing the raw, unstructured text data to be analyzed."
   ]
  },
  {
   "cell_type": "markdown",
   "id": "9f5a8fc6",
   "metadata": {},
   "source": [
    "## 2.3 Data inspection"
   ]
  },
  {
   "cell_type": "markdown",
   "id": "7d58eec8",
   "metadata": {},
   "source": [
    "Here we shall be exploring the datasets to have better understanding about what we're working with. "
   ]
  },
  {
   "cell_type": "code",
   "execution_count": 8,
   "id": "65d2fa18",
   "metadata": {},
   "outputs": [
    {
     "name": "stdout",
     "output_type": "stream",
     "text": [
      "<class 'pandas.core.frame.DataFrame'>\n",
      "RangeIndex: 74681 entries, 0 to 74680\n",
      "Data columns (total 4 columns):\n",
      " #   Column     Non-Null Count  Dtype \n",
      "---  ------     --------------  ----- \n",
      " 0   ID         74681 non-null  int64 \n",
      " 1   Entity     74681 non-null  object\n",
      " 2   Sentiment  74681 non-null  object\n",
      " 3   Text       73995 non-null  object\n",
      "dtypes: int64(1), object(3)\n",
      "memory usage: 2.3+ MB\n"
     ]
    }
   ],
   "source": [
    "df.info()"
   ]
  },
  {
   "cell_type": "code",
   "execution_count": 9,
   "id": "cb0fdab0",
   "metadata": {},
   "outputs": [
    {
     "name": "stdout",
     "output_type": "stream",
     "text": [
      "<class 'pandas.core.frame.DataFrame'>\n",
      "RangeIndex: 999 entries, 0 to 998\n",
      "Data columns (total 4 columns):\n",
      " #   Column     Non-Null Count  Dtype \n",
      "---  ------     --------------  ----- \n",
      " 0   ID         999 non-null    int64 \n",
      " 1   Entity     999 non-null    object\n",
      " 2   Sentiment  999 non-null    object\n",
      " 3   Text       999 non-null    object\n",
      "dtypes: int64(1), object(3)\n",
      "memory usage: 31.3+ KB\n"
     ]
    }
   ],
   "source": [
    "val_df.info()"
   ]
  },
  {
   "cell_type": "markdown",
   "id": "afb4f3b9",
   "metadata": {},
   "source": [
    "**Check for missing entries**"
   ]
  },
  {
   "cell_type": "code",
   "execution_count": 13,
   "id": "b09c4c25",
   "metadata": {},
   "outputs": [
    {
     "data": {
      "application/vnd.microsoft.datawrangler.viewer.v0+json": {
       "columns": [
        {
         "name": "index",
         "rawType": "object",
         "type": "string"
        },
        {
         "name": "0",
         "rawType": "float64",
         "type": "float"
        }
       ],
       "ref": "b61200ff-7f6d-4e5f-83ff-fcedb43b432e",
       "rows": [
        [
         "ID",
         "0.0"
        ],
        [
         "Entity",
         "0.0"
        ],
        [
         "Sentiment",
         "0.0"
        ],
        [
         "Text",
         "0.9185736666622032"
        ]
       ],
       "shape": {
        "columns": 1,
        "rows": 4
       }
      },
      "text/plain": [
       "ID           0.000000\n",
       "Entity       0.000000\n",
       "Sentiment    0.000000\n",
       "Text         0.918574\n",
       "dtype: float64"
      ]
     },
     "execution_count": 13,
     "metadata": {},
     "output_type": "execute_result"
    }
   ],
   "source": [
    "#Check the percentage of missing values per column for the training dataset\n",
    "100*(df.isnull().sum()/len(df))"
   ]
  },
  {
   "cell_type": "code",
   "execution_count": 12,
   "id": "1b2e8cee",
   "metadata": {},
   "outputs": [
    {
     "data": {
      "application/vnd.microsoft.datawrangler.viewer.v0+json": {
       "columns": [
        {
         "name": "index",
         "rawType": "object",
         "type": "string"
        },
        {
         "name": "0",
         "rawType": "float64",
         "type": "float"
        }
       ],
       "ref": "efd78900-42ad-4368-8859-029103a1837f",
       "rows": [
        [
         "ID",
         "0.0"
        ],
        [
         "Entity",
         "0.0"
        ],
        [
         "Sentiment",
         "0.0"
        ],
        [
         "Text",
         "0.0"
        ]
       ],
       "shape": {
        "columns": 1,
        "rows": 4
       }
      },
      "text/plain": [
       "ID           0.0\n",
       "Entity       0.0\n",
       "Sentiment    0.0\n",
       "Text         0.0\n",
       "dtype: float64"
      ]
     },
     "execution_count": 12,
     "metadata": {},
     "output_type": "execute_result"
    }
   ],
   "source": [
    "#Check the percentage of missing values per column for the validation dataset\n",
    "100*(val_df.isnull().sum()/len(val_df))"
   ]
  },
  {
   "cell_type": "markdown",
   "id": "43fe1b71",
   "metadata": {},
   "source": [
    "**Check for duplicated entries**"
   ]
  },
  {
   "cell_type": "code",
   "execution_count": 14,
   "id": "19ce7ddc",
   "metadata": {},
   "outputs": [
    {
     "data": {
      "text/plain": [
       "2700"
      ]
     },
     "execution_count": 14,
     "metadata": {},
     "output_type": "execute_result"
    }
   ],
   "source": [
    "#Check for duplicated entries in the training dataset\n",
    "df.duplicated().sum()"
   ]
  },
  {
   "cell_type": "code",
   "execution_count": 15,
   "id": "4acf9637",
   "metadata": {},
   "outputs": [
    {
     "data": {
      "text/plain": [
       "0"
      ]
     },
     "execution_count": 15,
     "metadata": {},
     "output_type": "execute_result"
    }
   ],
   "source": [
    "# Check for duplicated entries in the validation dataset\n",
    "val_df.duplicated().sum()"
   ]
  },
  {
   "cell_type": "markdown",
   "id": "bc4b0a45",
   "metadata": {},
   "source": [
    "# **3.0 Data Preparation**"
   ]
  },
  {
   "cell_type": "markdown",
   "id": "ae8632e5",
   "metadata": {},
   "source": [
    "Before building a stable sentiment classification model, it is important to pre-process the raw Twitter data for analysis. This stage involves cleaning, transforming, and structuring the dataset to ensure it is suitable for machine learning. The primary tasks are handling missing or duplicate records, normalizing text data and class imbalance handling. Effective data preparation lays the groundwork for building a robust and accurate sentiment analysis system that aligns with the project’s business objectives."
   ]
  },
  {
   "cell_type": "markdown",
   "id": "e79a209c",
   "metadata": {},
   "source": [
    "## 3.1 Handling missing entries"
   ]
  },
  {
   "cell_type": "code",
   "execution_count": 17,
   "id": "2df33bf6",
   "metadata": {},
   "outputs": [],
   "source": [
    "df.dropna(inplace=True)"
   ]
  },
  {
   "cell_type": "markdown",
   "id": "e212d355",
   "metadata": {},
   "source": [
    " ## 3.2 Preprocess text"
   ]
  },
  {
   "cell_type": "code",
   "execution_count": 19,
   "id": "601f57d6",
   "metadata": {},
   "outputs": [
    {
     "name": "stderr",
     "output_type": "stream",
     "text": [
      "[nltk_data] Downloading package punkt to\n",
      "[nltk_data]     C:\\Users\\pc\\AppData\\Roaming\\nltk_data...\n",
      "[nltk_data]   Package punkt is already up-to-date!\n",
      "[nltk_data] Downloading package stopwords to\n",
      "[nltk_data]     C:\\Users\\pc\\AppData\\Roaming\\nltk_data...\n",
      "[nltk_data]   Package stopwords is already up-to-date!\n",
      "[nltk_data] Downloading package wordnet to\n",
      "[nltk_data]     C:\\Users\\pc\\AppData\\Roaming\\nltk_data...\n"
     ]
    },
    {
     "name": "stdout",
     "output_type": "stream",
     "text": [
      "                                                Text  \\\n",
      "0  I am coming to the borders and I will kill you...   \n",
      "1  im getting on borderlands and i will kill you ...   \n",
      "2  im coming on borderlands and i will murder you...   \n",
      "3  im getting on borderlands 2 and i will murder ...   \n",
      "4  im getting into borderlands and i can murder y...   \n",
      "\n",
      "                   clean_text  \n",
      "0            come border kill  \n",
      "1     im get borderlands kill  \n",
      "2  im come borderlands murder  \n",
      "3   im get borderlands murder  \n",
      "4   im get borderlands murder  \n"
     ]
    }
   ],
   "source": [
    "import re\n",
    "import nltk\n",
    "from nltk.tokenize import word_tokenize\n",
    "from nltk.corpus import stopwords\n",
    "from nltk.stem import WordNetLemmatizer\n",
    "\n",
    "nltk.download('punkt')\n",
    "nltk.download('stopwords')\n",
    "nltk.download('wordnet')\n",
    "\n",
    "stop_words = set(stopwords.words('english'))\n",
    "lemmatizer = WordNetLemmatizer()\n",
    "\n",
    "def clean_text(text):\n",
    "    text = str(text).lower()\n",
    "    text = re.sub(r'@[A-Za-z0-9_]+', '', text)  # remove mentions\n",
    "    text = re.sub(r'#[A-Za-z0-9_]+', '', text)  # remove hashtags\n",
    "    text = re.sub(r'http\\S+', '', text)         # remove URLs\n",
    "    text = re.sub(r'[^a-z\\s]', '', text)        # remove non-letters\n",
    "\n",
    "    tokens = word_tokenize(text)\n",
    "    tokens = [t for t in tokens if t not in stop_words]\n",
    "    tokens = [lemmatizer.lemmatize(t, pos='v') for t in tokens]\n",
    "    return ' '.join(tokens)\n",
    "\n",
    "df['clean_text'] = df['Text'].apply(clean_text)\n",
    "print(df[['Text', 'clean_text']].head())\n"
   ]
  },
  {
   "cell_type": "markdown",
   "id": "6cd4dd97",
   "metadata": {},
   "source": [
    "## 3.3 Handling the duplicated entries "
   ]
  },
  {
   "cell_type": "code",
   "execution_count": 20,
   "id": "33206dce",
   "metadata": {},
   "outputs": [
    {
     "data": {
      "text/plain": [
       "9881"
      ]
     },
     "execution_count": 20,
     "metadata": {},
     "output_type": "execute_result"
    }
   ],
   "source": [
    "# Count duplicate cleaned tweets\n",
    "df.duplicated(subset=['clean_text']).sum()"
   ]
  },
  {
   "cell_type": "code",
   "execution_count": 21,
   "id": "e6926ff5",
   "metadata": {},
   "outputs": [],
   "source": [
    "# Drop duplicates based on cleaned text\n",
    "df.drop_duplicates(subset=['clean_text'], inplace=True)"
   ]
  },
  {
   "cell_type": "code",
   "execution_count": 24,
   "id": "99f04820",
   "metadata": {},
   "outputs": [],
   "source": [
    "# Save the cleaned DataFrame to a new CSV file\n",
    "df.to_csv(\"twitter_training_cleaned.csv\", index=False)\n"
   ]
  },
  {
   "cell_type": "markdown",
   "id": "d6139147",
   "metadata": {},
   "source": [
    "## 3.4 Check for class imbalances"
   ]
  },
  {
   "cell_type": "code",
   "execution_count": 26,
   "id": "10bd7029",
   "metadata": {},
   "outputs": [
    {
     "name": "stdout",
     "output_type": "stream",
     "text": [
      "Sentiment\n",
      "Negative      30.580827\n",
      "Positive      26.519248\n",
      "Neutral       25.182115\n",
      "Irrelevant    17.717810\n",
      "Name: proportion, dtype: float64\n"
     ]
    }
   ],
   "source": [
    "print(df['Sentiment'].value_counts(normalize=True) * 100)"
   ]
  },
  {
   "cell_type": "markdown",
   "id": "4dd8826e",
   "metadata": {},
   "source": [
    "# **4.0 Modelling**"
   ]
  },
  {
   "cell_type": "markdown",
   "id": "1d75176a",
   "metadata": {},
   "source": [
    "With the data cleaned, prepared, and explored, the next step is to develop and evaluate machine learning models that can accurately classify the sentiment of tweets. This stage involves transforming the text data into numerical features using **natural language processing (NLP)** techniques, selecting suitable algorithms, training the models on labeled examples, and validating their performance.\n",
    "\n",
    "The goal is to identify a model that can generalize well to new, unseen tweets and reliably predict whether a tweet’s sentiment is Positive, Negative, Neutral, or Irrelevant. This section will cover the text vectorization process, model selection, training, and performance evaluation to ensure the final sentiment classifier meets the business requirements for accuracy and reliability."
   ]
  },
  {
   "cell_type": "markdown",
   "id": "2fe30802",
   "metadata": {},
   "source": [
    "## 4.1 Vectorize text (TF-IDF) and prepare the target variable"
   ]
  },
  {
   "cell_type": "code",
   "execution_count": 27,
   "id": "2d0cee50",
   "metadata": {},
   "outputs": [],
   "source": [
    "from sklearn.feature_extraction.text import TfidfVectorizer\n",
    "\n",
    "vectorizer = TfidfVectorizer(max_features=5000)\n",
    "X = vectorizer.fit_transform(df['clean_text'])\n",
    "\n",
    "#  Prepare target variable\n",
    "y = df['Sentiment']"
   ]
  },
  {
   "cell_type": "markdown",
   "id": "0504a795",
   "metadata": {},
   "source": [
    " ## 4.2 Building the baseline model"
   ]
  },
  {
   "cell_type": "code",
   "execution_count": 28,
   "id": "bbd89d21",
   "metadata": {},
   "outputs": [
    {
     "name": "stdout",
     "output_type": "stream",
     "text": [
      "Classification Report:\n",
      "               precision    recall  f1-score   support\n",
      "\n",
      "  Irrelevant       0.65      0.53      0.58      2150\n",
      "    Negative       0.72      0.78      0.75      3876\n",
      "     Neutral       0.65      0.62      0.64      3037\n",
      "    Positive       0.68      0.72      0.70      3292\n",
      "\n",
      "    accuracy                           0.68     12355\n",
      "   macro avg       0.67      0.66      0.67     12355\n",
      "weighted avg       0.68      0.68      0.68     12355\n",
      "\n",
      "Confusion Matrix:\n",
      " [[1137  374  279  360]\n",
      " [ 185 3023  361  307]\n",
      " [ 229  454 1897  457]\n",
      " [ 196  337  391 2368]]\n"
     ]
    }
   ],
   "source": [
    "from sklearn.model_selection import train_test_split\n",
    "from sklearn.linear_model import LogisticRegression\n",
    "from sklearn.metrics import classification_report, confusion_matrix\n",
    "\n",
    "X_train, X_test, y_train, y_test = train_test_split(X, y, test_size=0.2, random_state=42)\n",
    "\n",
    "model = LogisticRegression(max_iter=1000)\n",
    "model.fit(X_train, y_train)\n",
    "\n",
    "preds = model.predict(X_test)\n",
    "\n",
    "print(\"Classification Report:\\n\", classification_report(y_test, preds))\n",
    "print(\"Confusion Matrix:\\n\", confusion_matrix(y_test, preds))\n"
   ]
  },
  {
   "cell_type": "markdown",
   "id": "56b5e616",
   "metadata": {},
   "source": [
    "**Prediction example**"
   ]
  },
  {
   "cell_type": "code",
   "execution_count": 29,
   "id": "5df1aac0",
   "metadata": {},
   "outputs": [
    {
     "name": "stdout",
     "output_type": "stream",
     "text": [
      "\n",
      "Predicted sentiment: ['Positive']\n"
     ]
    }
   ],
   "source": [
    "example = [\"I absolutely love the new Borderlands game!\"]\n",
    "example_clean = [clean_text(example[0])]\n",
    "example_vec = vectorizer.transform(example_clean)\n",
    "\n",
    "prediction = model.predict(example_vec)\n",
    "print(\"\\nPredicted sentiment:\", prediction)\n"
   ]
  },
  {
   "cell_type": "markdown",
   "id": "1d31ff33",
   "metadata": {},
   "source": [
    "The baseline model demonstrates a reasonable starting point, achieving an overall accuracy of approximately 68% and performing strongest on Negative and Positive sentiment classes. However, the relatively lower recall for the Irrelevant and Neutral categories indicates that the model struggles to distinguish these sentiments reliably. This suggests that further improvements in text preprocessing, feature extraction, and model tuning could help enhance overall performance and reduce misclassifications. In the next steps, additional techniques such as advanced vectorization, hyperparameter optimization, or handling potential class imbalances will be explored to build a more robust and generalizable sentiment classifier."
   ]
  },
  {
   "cell_type": "markdown",
   "id": "8af80f95",
   "metadata": {},
   "source": [
    "#  Random Forest (with bi-grams)"
   ]
  },
  {
   "cell_type": "code",
   "execution_count": 30,
   "id": "aaed2703",
   "metadata": {},
   "outputs": [
    {
     "name": "stdout",
     "output_type": "stream",
     "text": [
      "Random Forest Classification Report:\n",
      "               precision    recall  f1-score   support\n",
      "\n",
      "  Irrelevant       0.92      0.79      0.85      2150\n",
      "    Negative       0.87      0.92      0.89      3876\n",
      "     Neutral       0.88      0.85      0.87      3037\n",
      "    Positive       0.84      0.89      0.87      3292\n",
      "\n",
      "    accuracy                           0.87     12355\n",
      "   macro avg       0.88      0.86      0.87     12355\n",
      "weighted avg       0.87      0.87      0.87     12355\n",
      "\n",
      "Random Forest Confusion Matrix:\n",
      " [[1701  159  100  190]\n",
      " [  48 3552  116  160]\n",
      " [  46  195 2593  203]\n",
      " [  45  184  127 2936]]\n"
     ]
    }
   ],
   "source": [
    "# Random Forest with bi-grams\n",
    "\n",
    "from sklearn.feature_extraction.text import TfidfVectorizer\n",
    "from sklearn.model_selection import train_test_split\n",
    "from sklearn.ensemble import RandomForestClassifier\n",
    "from sklearn.metrics import classification_report, confusion_matrix\n",
    "\n",
    "# TF-IDF vectorizer with bi-grams\n",
    "vectorizer = TfidfVectorizer(max_features=5000, ngram_range=(1,2))\n",
    "X = vectorizer.fit_transform(df['clean_text'])\n",
    "y = df['Sentiment']\n",
    "\n",
    "# Train/test split\n",
    "X_train, X_test, y_train, y_test = train_test_split(X, y, test_size=0.2, random_state=42)\n",
    "\n",
    "# Random Forest\n",
    "rf_model = RandomForestClassifier(n_estimators=100, random_state=42)\n",
    "rf_model.fit(X_train, y_train)\n",
    "\n",
    "rf_preds = rf_model.predict(X_test)\n",
    "\n",
    "print(\"Random Forest Classification Report:\\n\", classification_report(y_test, rf_preds))\n",
    "print(\"Random Forest Confusion Matrix:\\n\", confusion_matrix(y_test, rf_preds))\n",
    "\n",
    "# # Predict on validation set\n",
    "# val_df['clean_text'] = val_df['Text'].apply(clean_text)\n",
    "# X_val = vectorizer.transform(val_df['clean_text'])\n",
    "# val_rf_preds = rf_model.predict(X_val)\n",
    "# val_df['Pred_RF'] = val_rf_preds\n",
    "\n",
    "# print(val_df[['Text', 'Pred_RF']].head())\n"
   ]
  },
  {
   "cell_type": "code",
   "execution_count": null,
   "id": "b3aacccb",
   "metadata": {},
   "outputs": [
    {
     "name": "stdout",
     "output_type": "stream",
     "text": [
      "✅ Model and vectorizer saved!\n"
     ]
    }
   ],
   "source": [
    "import pickle\n",
    "\n",
    "# Save model and vectorizer\n",
    "with open(\"rf_model.pkl\", \"wb\") as f:\n",
    "    pickle.dump(rf_model, f)\n",
    "\n",
    "with open(\"vectorizer.pkl\", \"wb\") as f:\n",
    "    pickle.dump(vectorizer, f)\n",
    "\n",
    "print(\"✅ Model and vectorizer saved!\")\n"
   ]
  },
  {
   "cell_type": "markdown",
   "id": "c52ff5e2",
   "metadata": {},
   "source": [
    "#  XGBoost (with bi-grams)"
   ]
  },
  {
   "cell_type": "code",
   "execution_count": null,
   "id": "cd298396",
   "metadata": {},
   "outputs": [
    {
     "name": "stderr",
     "output_type": "stream",
     "text": [
      "c:\\Users\\ADMIN\\anaconda3\\envs\\learn-env\\lib\\site-packages\\xgboost\\core.py:158: UserWarning: [18:30:35] WARNING: C:\\buildkite-agent\\builds\\buildkite-windows-cpu-autoscaling-group-i-08cbc0333d8d4aae1-1\\xgboost\\xgboost-ci-windows\\src\\learner.cc:740: \n",
      "Parameters: { \"use_label_encoder\" } are not used.\n",
      "\n",
      "  warnings.warn(smsg, UserWarning)\n"
     ]
    },
    {
     "name": "stdout",
     "output_type": "stream",
     "text": [
      "XGBoost Classification Report:\n",
      "               precision    recall  f1-score   support\n",
      "\n",
      "  Irrelevant       0.78      0.35      0.48      2661\n",
      "    Negative       0.56      0.85      0.68      4471\n",
      "     Neutral       0.67      0.52      0.59      3551\n",
      "    Positive       0.67      0.66      0.67      4254\n",
      "\n",
      "    accuracy                           0.63     14937\n",
      "   macro avg       0.67      0.60      0.60     14937\n",
      "weighted avg       0.66      0.63      0.62     14937\n",
      "\n",
      "XGBoost Confusion Matrix:\n",
      " [[ 934  910  291  526]\n",
      " [  70 3796  285  320]\n",
      " [ 111 1048 1857  535]\n",
      " [  89 1007  337 2821]]\n"
     ]
    }
   ],
   "source": [
    "from sklearn.preprocessing import LabelEncoder\n",
    "from xgboost import XGBClassifier\n",
    "from sklearn.metrics import classification_report, confusion_matrix\n",
    "\n",
    "# Reuse same vectorizer\n",
    "X = vectorizer.fit_transform(df['clean_text'])\n",
    "\n",
    "# Encode y\n",
    "le = LabelEncoder()\n",
    "y_encoded = le.fit_transform(df['Sentiment'])\n",
    "\n",
    "# Train/test split\n",
    "X_train, X_test, y_train, y_test = train_test_split(X, y_encoded, test_size=0.2, random_state=42)\n",
    "\n",
    "# XGBoost\n",
    "xgb_model = XGBClassifier(use_label_encoder=False, eval_metric='mlogloss', random_state=42)\n",
    "xgb_model.fit(X_train, y_train)\n",
    "\n",
    "xgb_preds = xgb_model.predict(X_test)\n",
    "\n",
    "# Decode predictions for reporting\n",
    "xgb_preds_decoded = le.inverse_transform(xgb_preds)\n",
    "y_test_decoded = le.inverse_transform(y_test)\n",
    "\n",
    "print(\"XGBoost Classification Report:\\n\", classification_report(y_test_decoded, xgb_preds_decoded))\n",
    "print(\"XGBoost Confusion Matrix:\\n\", confusion_matrix(y_test_decoded, xgb_preds_decoded))\n",
    "\n",
    "# Predict on validation set\n",
    "# X_val = vectorizer.transform(val_df['clean_text'])\n",
    "# val_xgb_preds_encoded = xgb_model.predict(X_val)\n",
    "# val_xgb_preds = le.inverse_transform(val_xgb_preds_encoded)\n",
    "\n",
    "# val_df['Pred_XGB'] = val_xgb_preds\n",
    "\n",
    "# print(val_df[['Text', 'Pred_XGB']].head())\n",
    " "
   ]
  },
  {
   "cell_type": "markdown",
   "id": "14954805",
   "metadata": {},
   "source": [
    "| Metric        | Random Forest         | XGBoost    |\n",
    "| ------------- | --------------------- | ---------- |\n",
    "| Accuracy      | **86%**               | 63%        |\n",
    "| Macro F1      | **0.86**              | 0.60       |\n",
    "| Best Class    | Negative / Irrelevant | Negative   |\n",
    "| Weakest Class | Irrelevant (recall)   | Irrelevant |\n"
   ]
  },
  {
   "cell_type": "markdown",
   "id": "54c2a784",
   "metadata": {},
   "source": [
    "Your Random Forest model is clearly stronger right now on this feature set (TF-IDF with bigrams).\n",
    "\n",
    "XGBoost struggled here probably because it is more sensitive to class imbalance and requires more hyperparameter tuning to match RF in this case."
   ]
  },
  {
   "cell_type": "markdown",
   "id": "a50e2258",
   "metadata": {},
   "source": [
    " # Load & predict on validation dataset "
   ]
  },
  {
   "cell_type": "code",
   "execution_count": null,
   "id": "4578a7cd",
   "metadata": {},
   "outputs": [
    {
     "name": "stdout",
     "output_type": "stream",
     "text": [
      "                                                Text Predicted_Sentiment_RF\n",
      "0  BBC News - Amazon boss Jeff Bezos rejects clai...                Neutral\n",
      "1  @Microsoft Why do I pay for WORD when it funct...               Negative\n",
      "2  CSGO matchmaking is so full of closet hacking,...               Negative\n",
      "3  Now the President is slapping Americans in the...                Neutral\n",
      "4  Hi @EAHelp I’ve had Madeleine McCann in my cel...               Negative\n"
     ]
    }
   ],
   "source": [
    "import pandas as pd\n",
    "\n",
    "# Load validation dataset\n",
    "val_file_path = 'data/twitter_validation.csv'\n",
    "val_df = pd.read_csv(val_file_path)\n",
    "\n",
    "# Clean text (reuse the same clean_text function from before!)\n",
    "val_df['clean_text'] = val_df['Text'].apply(clean_text)\n",
    "\n",
    "# Vectorize using the trained TF-IDF vectorizer\n",
    "X_val = vectorizer.transform(val_df['clean_text'])\n",
    "\n",
    "# Predict using the trained Random Forest model\n",
    "val_rf_preds = rf_model.predict(X_val)\n",
    "\n",
    "# Attach predictions to the DataFrame\n",
    "val_df['Predicted_Sentiment_RF'] = val_rf_preds\n",
    "\n",
    "# 7 Preview\n",
    "print(val_df[['Text', 'Predicted_Sentiment_RF']].head())\n",
    "\n",
    "# Optional: Save to CSV\n",
    "# val_df.to_csv(\"rf_validation_predictions.csv\", index=False)\n"
   ]
  },
  {
   "cell_type": "code",
   "execution_count": 24,
   "id": "de353400",
   "metadata": {},
   "outputs": [
    {
     "name": "stdout",
     "output_type": "stream",
     "text": [
      "Predicted_Sentiment_RF\n",
      "Positive      288\n",
      "Negative      272\n",
      "Neutral       271\n",
      "Irrelevant    168\n",
      "Name: count, dtype: int64\n"
     ]
    }
   ],
   "source": [
    "print(val_df['Predicted_Sentiment_RF'].value_counts())\n"
   ]
  },
  {
   "cell_type": "markdown",
   "id": "62ba0b42",
   "metadata": {},
   "source": [
    " # Visualize the distribution"
   ]
  },
  {
   "cell_type": "code",
   "execution_count": 27,
   "id": "aa004081",
   "metadata": {},
   "outputs": [
    {
     "data": {
      "image/png": "[encoded data removed]",
      "text/plain": [
       "<Figure size 432x288 with 1 Axes>"
      ]
     },
     "metadata": {
      "needs_background": "light"
     },
     "output_type": "display_data"
    }
   ],
   "source": [
    "\n",
    "import matplotlib.pyplot as plt\n",
    "\n",
    "val_df['Predicted_Sentiment_RF'].value_counts().plot(kind='bar', color='purple')\n",
    "plt.title(\"Predicted Sentiment Distribution (Random Forest)\")\n",
    "plt.xlabel(\"Sentiment\")\n",
    "plt.ylabel(\"Count\")\n",
    "plt.xticks(rotation=45)\n",
    "plt.show()\n"
   ]
  },
  {
   "cell_type": "markdown",
   "id": "cfa96edc",
   "metadata": {},
   "source": [
    "The model predicts a fairly balanced distribution among Positive, Negative, and Neutral sentiments.\n",
    "\n",
    "Slightly fewer tweets classified as Irrelevant — which is common because Irrelevant tweets often share vocabulary with Neutral or Negative sentiments, making them harder to catch confidently.\n",
    "\n",
    "No major class skew, suggesting your model is not heavily biased toward a single sentiment."
   ]
  },
  {
   "cell_type": "markdown",
   "id": "bb53046b",
   "metadata": {},
   "source": []
  }
 ],
 "metadata": {
  "kernelspec": {
   "display_name": "base",
   "language": "python",
   "name": "python3"
  },
  "language_info": {
   "codemirror_mode": {
    "name": "ipython",
    "version": 3
   },
   "file_extension": ".py",
   "mimetype": "text/x-python",
   "name": "python",
   "nbconvert_exporter": "python",
   "pygments_lexer": "ipython3",
   "version": "3.11.7"
  }
 },
 "nbformat": 4,
 "nbformat_minor": 5
}
