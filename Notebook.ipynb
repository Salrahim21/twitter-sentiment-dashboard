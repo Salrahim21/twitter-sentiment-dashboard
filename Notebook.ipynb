{
 "cells": [
  {
   "cell_type": "markdown",
   "id": "fa7fd655",
   "metadata": {},
   "source": [
    "<img src=\"Data/sentiment_picture.png\" width=\"700\"/>\n",
    "\n",
    " # Social Media Sentiment Anlysis\n",
    " # Group 3 \n",
    "\n",
    "Authors\n",
    "  - Ibrahim Salim\n",
    "  - Abond Mwangi\n",
    "  - Abigail Muthenya\n",
    "  - Nelson Kamau\n"
   ]
  },
  {
   "cell_type": "markdown",
   "id": "f8854894",
   "metadata": {},
   "source": [
    " # Step 1: Loading & preprocessing"
   ]
  },
  {
   "cell_type": "code",
   "execution_count": 33,
   "id": "bf72c73a",
   "metadata": {},
   "outputs": [],
   "source": [
    "\n",
    "import pandas as pd\n",
    "\n",
    "# Load the uploaded CSV file\n",
    "file_path = 'data/twitter_training.csv'\n",
    "df = pd.read_csv(file_path)"
   ]
  },
  {
   "cell_type": "code",
   "execution_count": 34,
   "id": "eff534fc",
   "metadata": {},
   "outputs": [
    {
     "name": "stdout",
     "output_type": "stream",
     "text": [
      "     ID       Entity Sentiment  \\\n",
      "0  2401  Borderlands  Positive   \n",
      "1  2401  Borderlands  Positive   \n",
      "2  2401  Borderlands  Positive   \n",
      "3  2401  Borderlands  Positive   \n",
      "4  2401  Borderlands  Positive   \n",
      "\n",
      "                                                Text  \n",
      "0  I am coming to the borders and I will kill you...  \n",
      "1  im getting on borderlands and i will kill you ...  \n",
      "2  im coming on borderlands and i will murder you...  \n",
      "3  im getting on borderlands 2 and i will murder ...  \n",
      "4  im getting into borderlands and i can murder y...  \n",
      "<class 'pandas.core.frame.DataFrame'>\n",
      "RangeIndex: 74681 entries, 0 to 74680\n",
      "Data columns (total 4 columns):\n",
      " #   Column     Non-Null Count  Dtype \n",
      "---  ------     --------------  ----- \n",
      " 0   ID         74681 non-null  int64 \n",
      " 1   Entity     74681 non-null  object\n",
      " 2   Sentiment  74681 non-null  object\n",
      " 3   Text       73995 non-null  object\n",
      "dtypes: int64(1), object(3)\n",
      "memory usage: 2.3+ MB\n",
      "None\n"
     ]
    }
   ],
   "source": [
    "df.columns = ['ID', 'Entity', 'Sentiment', 'Text']\n",
    "print(df[['ID', 'Entity', 'Sentiment', 'Text']].head())\n",
    "\n",
    "print(df.info())\n",
    "\n",
    "\n"
   ]
  },
  {
   "cell_type": "code",
   "execution_count": 35,
   "id": "99f04820",
   "metadata": {},
   "outputs": [],
   "source": [
    "df.to_csv(\"twitter_training_cleaned.csv\", index=False)\n"
   ]
  },
  {
   "cell_type": "markdown",
   "id": "4bec90b8",
   "metadata": {},
   "source": [
    " # Step 2: Preprocess text"
   ]
  },
  {
   "cell_type": "code",
   "execution_count": 13,
   "id": "601f57d6",
   "metadata": {},
   "outputs": [
    {
     "name": "stderr",
     "output_type": "stream",
     "text": [
      "[nltk_data] Downloading package punkt to\n",
      "[nltk_data]     C:\\Users\\kamau\\AppData\\Roaming\\nltk_data...\n",
      "[nltk_data]   Package punkt is already up-to-date!\n",
      "[nltk_data] Downloading package stopwords to\n",
      "[nltk_data]     C:\\Users\\kamau\\AppData\\Roaming\\nltk_data...\n",
      "[nltk_data]   Package stopwords is already up-to-date!\n",
      "[nltk_data] Downloading package wordnet to\n",
      "[nltk_data]     C:\\Users\\kamau\\AppData\\Roaming\\nltk_data...\n",
      "[nltk_data]   Package wordnet is already up-to-date!\n"
     ]
    },
    {
     "name": "stdout",
     "output_type": "stream",
     "text": [
      "                                                Text  \\\n",
      "0  I am coming to the borders and I will kill you...   \n",
      "1  im getting on borderlands and i will kill you ...   \n",
      "2  im coming on borderlands and i will murder you...   \n",
      "3  im getting on borderlands 2 and i will murder ...   \n",
      "4  im getting into borderlands and i can murder y...   \n",
      "\n",
      "                   clean_text  \n",
      "0            come border kill  \n",
      "1     im get borderlands kill  \n",
      "2  im come borderlands murder  \n",
      "3   im get borderlands murder  \n",
      "4   im get borderlands murder  \n"
     ]
    }
   ],
   "source": [
    "import re\n",
    "import nltk\n",
    "from nltk.tokenize import word_tokenize\n",
    "from nltk.corpus import stopwords\n",
    "from nltk.stem import WordNetLemmatizer\n",
    "\n",
    "nltk.download('punkt')\n",
    "nltk.download('stopwords')\n",
    "nltk.download('wordnet')\n",
    "\n",
    "stop_words = set(stopwords.words('english'))\n",
    "lemmatizer = WordNetLemmatizer()\n",
    "\n",
    "def clean_text(text):\n",
    "    text = str(text).lower()\n",
    "    text = re.sub(r'@[A-Za-z0-9_]+', '', text)  # remove mentions\n",
    "    text = re.sub(r'#[A-Za-z0-9_]+', '', text)  # remove hashtags\n",
    "    text = re.sub(r'http\\S+', '', text)         # remove URLs\n",
    "    text = re.sub(r'[^a-z\\s]', '', text)        # remove non-letters\n",
    "\n",
    "    tokens = word_tokenize(text)\n",
    "    tokens = [t for t in tokens if t not in stop_words]\n",
    "    tokens = [lemmatizer.lemmatize(t, pos='v') for t in tokens]\n",
    "    return ' '.join(tokens)\n",
    "\n",
    "df['clean_text'] = df['Text'].apply(clean_text)\n",
    "print(df[['Text', 'clean_text']].head())\n"
   ]
  },
  {
   "cell_type": "markdown",
   "id": "2fe30802",
   "metadata": {},
   "source": [
    "# Step 3: Vectorize text (TF-IDF)"
   ]
  },
  {
   "cell_type": "code",
   "execution_count": 14,
   "id": "2d0cee50",
   "metadata": {},
   "outputs": [],
   "source": [
    "from sklearn.feature_extraction.text import TfidfVectorizer\n",
    "\n",
    "vectorizer = TfidfVectorizer(max_features=5000)\n",
    "X = vectorizer.fit_transform(df['clean_text'])\n"
   ]
  },
  {
   "cell_type": "markdown",
   "id": "6796bc03",
   "metadata": {},
   "source": [
    "#  Step 4: Prepare target"
   ]
  },
  {
   "cell_type": "code",
   "execution_count": 15,
   "id": "004624dc",
   "metadata": {},
   "outputs": [],
   "source": [
    "y = df['Sentiment']\n"
   ]
  },
  {
   "cell_type": "markdown",
   "id": "0504a795",
   "metadata": {},
   "source": [
    " # Step 5: Split & build model"
   ]
  },
  {
   "cell_type": "code",
   "execution_count": 16,
   "id": "bbd89d21",
   "metadata": {},
   "outputs": [
    {
     "name": "stdout",
     "output_type": "stream",
     "text": [
      "Classification Report:\n",
      "               precision    recall  f1-score   support\n",
      "\n",
      "  Irrelevant       0.67      0.50      0.57      2661\n",
      "    Negative       0.71      0.76      0.74      4471\n",
      "     Neutral       0.60      0.64      0.62      3551\n",
      "    Positive       0.69      0.71      0.70      4254\n",
      "\n",
      "    accuracy                           0.67     14937\n",
      "   macro avg       0.67      0.65      0.66     14937\n",
      "weighted avg       0.67      0.67      0.67     14937\n",
      "\n",
      "Confusion Matrix:\n",
      " [[1328  444  408  481]\n",
      " [ 186 3398  532  355]\n",
      " [ 243  518 2282  508]\n",
      " [ 233  412  569 3040]]\n"
     ]
    }
   ],
   "source": [
    "from sklearn.model_selection import train_test_split\n",
    "from sklearn.linear_model import LogisticRegression\n",
    "from sklearn.metrics import classification_report, confusion_matrix\n",
    "\n",
    "X_train, X_test, y_train, y_test = train_test_split(X, y, test_size=0.2, random_state=42)\n",
    "\n",
    "model = LogisticRegression(max_iter=1000)\n",
    "model.fit(X_train, y_train)\n",
    "\n",
    "preds = model.predict(X_test)\n",
    "\n",
    "print(\"Classification Report:\\n\", classification_report(y_test, preds))\n",
    "print(\"Confusion Matrix:\\n\", confusion_matrix(y_test, preds))\n"
   ]
  },
  {
   "cell_type": "markdown",
   "id": "56b5e616",
   "metadata": {},
   "source": [
    "# Step 6: Predict example"
   ]
  },
  {
   "cell_type": "code",
   "execution_count": 17,
   "id": "5df1aac0",
   "metadata": {},
   "outputs": [
    {
     "name": "stdout",
     "output_type": "stream",
     "text": [
      "\n",
      "Predicted sentiment: ['Positive']\n"
     ]
    }
   ],
   "source": [
    "example = [\"I absolutely love the new Borderlands game!\"]\n",
    "example_clean = [clean_text(example[0])]\n",
    "example_vec = vectorizer.transform(example_clean)\n",
    "\n",
    "prediction = model.predict(example_vec)\n",
    "print(\"\\nPredicted sentiment:\", prediction)\n"
   ]
  },
  {
   "cell_type": "markdown",
   "id": "8af80f95",
   "metadata": {},
   "source": [
    "#  Random Forest (with bi-grams)"
   ]
  },
  {
   "cell_type": "code",
   "execution_count": 21,
   "id": "aaed2703",
   "metadata": {},
   "outputs": [
    {
     "name": "stdout",
     "output_type": "stream",
     "text": [
      "Random Forest Classification Report:\n",
      "               precision    recall  f1-score   support\n",
      "\n",
      "  Irrelevant       0.93      0.78      0.85      2661\n",
      "    Negative       0.89      0.88      0.89      4471\n",
      "     Neutral       0.85      0.84      0.85      3551\n",
      "    Positive       0.81      0.90      0.85      4254\n",
      "\n",
      "    accuracy                           0.86     14937\n",
      "   macro avg       0.87      0.85      0.86     14937\n",
      "weighted avg       0.87      0.86      0.86     14937\n",
      "\n",
      "Random Forest Confusion Matrix:\n",
      " [[2069  166  148  278]\n",
      " [  38 3956  183  294]\n",
      " [  49  168 3000  334]\n",
      " [  58  172  182 3842]]\n"
     ]
    }
   ],
   "source": [
    "# ✅ Block 1: Random Forest with bi-grams\n",
    "\n",
    "from sklearn.feature_extraction.text import TfidfVectorizer\n",
    "from sklearn.model_selection import train_test_split\n",
    "from sklearn.ensemble import RandomForestClassifier\n",
    "from sklearn.metrics import classification_report, confusion_matrix\n",
    "\n",
    "# TF-IDF vectorizer with bi-grams\n",
    "vectorizer = TfidfVectorizer(max_features=5000, ngram_range=(1,2))\n",
    "X = vectorizer.fit_transform(df['clean_text'])\n",
    "y = df['Sentiment']\n",
    "\n",
    "# Train/test split\n",
    "X_train, X_test, y_train, y_test = train_test_split(X, y, test_size=0.2, random_state=42)\n",
    "\n",
    "# Random Forest\n",
    "rf_model = RandomForestClassifier(n_estimators=100, random_state=42)\n",
    "rf_model.fit(X_train, y_train)\n",
    "\n",
    "rf_preds = rf_model.predict(X_test)\n",
    "\n",
    "print(\"Random Forest Classification Report:\\n\", classification_report(y_test, rf_preds))\n",
    "print(\"Random Forest Confusion Matrix:\\n\", confusion_matrix(y_test, rf_preds))\n",
    "\n",
    "# # Predict on validation set\n",
    "# val_df['clean_text'] = val_df['Text'].apply(clean_text)\n",
    "# X_val = vectorizer.transform(val_df['clean_text'])\n",
    "# val_rf_preds = rf_model.predict(X_val)\n",
    "# val_df['Pred_RF'] = val_rf_preds\n",
    "\n",
    "# print(val_df[['Text', 'Pred_RF']].head())\n"
   ]
  },
  {
   "cell_type": "code",
   "execution_count": 29,
   "id": "b93c35a2",
   "metadata": {},
   "outputs": [
    {
     "data": {
      "text/plain": [
       "Index(['ID', 'Entity', 'Sentiment', 'Text', 'clean_text'], dtype='object')"
      ]
     },
     "execution_count": 29,
     "metadata": {},
     "output_type": "execute_result"
    }
   ],
   "source": [
    "df.columns"
   ]
  },
  {
   "cell_type": "code",
   "execution_count": 28,
   "id": "b3aacccb",
   "metadata": {},
   "outputs": [
    {
     "name": "stdout",
     "output_type": "stream",
     "text": [
      "✅ Model and vectorizer saved!\n"
     ]
    }
   ],
   "source": [
    "\n",
    "import pickle\n",
    "\n",
    "# Save model and vectorizer\n",
    "with open(\"rf_model.pkl\", \"wb\") as f:\n",
    "    pickle.dump(rf_model, f)\n",
    "\n",
    "with open(\"vectorizer.pkl\", \"wb\") as f:\n",
    "    pickle.dump(vectorizer, f)\n",
    "\n",
    "print(\"✅ Model and vectorizer saved!\")\n"
   ]
  },
  {
   "cell_type": "markdown",
   "id": "c52ff5e2",
   "metadata": {},
   "source": [
    "#  XGBoost (with bi-grams)"
   ]
  },
  {
   "cell_type": "code",
   "execution_count": null,
   "id": "cd298396",
   "metadata": {},
   "outputs": [
    {
     "name": "stderr",
     "output_type": "stream",
     "text": [
      "c:\\Users\\ADMIN\\anaconda3\\envs\\learn-env\\lib\\site-packages\\xgboost\\core.py:158: UserWarning: [18:30:35] WARNING: C:\\buildkite-agent\\builds\\buildkite-windows-cpu-autoscaling-group-i-08cbc0333d8d4aae1-1\\xgboost\\xgboost-ci-windows\\src\\learner.cc:740: \n",
      "Parameters: { \"use_label_encoder\" } are not used.\n",
      "\n",
      "  warnings.warn(smsg, UserWarning)\n"
     ]
    },
    {
     "name": "stdout",
     "output_type": "stream",
     "text": [
      "[12:01:29] WARNING: C:\\Users\\Administrator\\workspace\\xgboost-win64_release_1.2.0\\src\\learner.cc:516: \n",
      "Parameters: { use_label_encoder } might not be used.\n",
      "\n",
      "  This may not be accurate due to some parameters are only used in language bindings but\n",
      "  passed down to XGBoost core.  Or some parameters are not used but slip through this\n",
      "  verification. Please open an issue if you find above cases.\n",
      "\n",
      "\n",
      "XGBoost Classification Report:\n",
      "               precision    recall  f1-score   support\n",
      "\n",
      "  Irrelevant       0.78      0.35      0.48      2661\n",
      "    Negative       0.56      0.85      0.68      4471\n",
      "     Neutral       0.67      0.52      0.59      3551\n",
      "    Positive       0.67      0.66      0.67      4254\n",
      "\n",
      "    accuracy                           0.63     14937\n",
      "   macro avg       0.67      0.60      0.60     14937\n",
      "weighted avg       0.66      0.63      0.62     14937\n",
      "\n",
      "XGBoost Confusion Matrix:\n",
      " [[ 934  910  291  526]\n",
      " [  70 3796  285  320]\n",
      " [ 111 1048 1857  535]\n",
      " [  89 1007  337 2821]]\n"
     ]
    }
   ],
   "source": [
    "from sklearn.preprocessing import LabelEncoder\n",
    "from xgboost import XGBClassifier\n",
    "from sklearn.metrics import classification_report, confusion_matrix\n",
    "\n",
    "# Reuse same vectorizer\n",
    "X = vectorizer.fit_transform(df['clean_text'])\n",
    "\n",
    "# Encode y\n",
    "le = LabelEncoder()\n",
    "y_encoded = le.fit_transform(df['Sentiment'])\n",
    "\n",
    "# Train/test split\n",
    "X_train, X_test, y_train, y_test = train_test_split(X, y_encoded, test_size=0.2, random_state=42)\n",
    "\n",
    "# XGBoost\n",
    "xgb_model = XGBClassifier(use_label_encoder=False, eval_metric='mlogloss', random_state=42)\n",
    "xgb_model.fit(X_train, y_train)\n",
    "\n",
    "xgb_preds = xgb_model.predict(X_test)\n",
    "\n",
    "# Decode predictions for reporting\n",
    "xgb_preds_decoded = le.inverse_transform(xgb_preds)\n",
    "y_test_decoded = le.inverse_transform(y_test)\n",
    "\n",
    "print(\"XGBoost Classification Report:\\n\", classification_report(y_test_decoded, xgb_preds_decoded))\n",
    "print(\"XGBoost Confusion Matrix:\\n\", confusion_matrix(y_test_decoded, xgb_preds_decoded))\n",
    "\n",
    "# Predict on validation set\n",
    "# X_val = vectorizer.transform(val_df['clean_text'])\n",
    "# val_xgb_preds_encoded = xgb_model.predict(X_val)\n",
    "# val_xgb_preds = le.inverse_transform(val_xgb_preds_encoded)\n",
    "\n",
    "# val_df['Pred_XGB'] = val_xgb_preds\n",
    "\n",
    "# print(val_df[['Text', 'Pred_XGB']].head())\n",
    " "
   ]
  },
  {
   "cell_type": "markdown",
   "id": "14954805",
   "metadata": {},
   "source": [
    "| Metric        | Random Forest         | XGBoost    |\n",
    "| ------------- | --------------------- | ---------- |\n",
    "| Accuracy      | **86%**               | 63%        |\n",
    "| Macro F1      | **0.86**              | 0.60       |\n",
    "| Best Class    | Negative / Irrelevant | Negative   |\n",
    "| Weakest Class | Irrelevant (recall)   | Irrelevant |\n"
   ]
  },
  {
   "cell_type": "markdown",
   "id": "54c2a784",
   "metadata": {},
   "source": [
    "Your Random Forest model is clearly stronger right now on this feature set (TF-IDF with bigrams).\n",
    "\n",
    "XGBoost struggled here probably because it is more sensitive to class imbalance and requires more hyperparameter tuning to match RF in this case."
   ]
  },
  {
   "cell_type": "markdown",
   "id": "a50e2258",
   "metadata": {},
   "source": [
    " # Load & predict on validation dataset "
   ]
  },
  {
   "cell_type": "code",
   "execution_count": 23,
   "id": "4578a7cd",
   "metadata": {},
   "outputs": [
    {
     "name": "stdout",
     "output_type": "stream",
     "text": [
      "                                                Text Predicted_Sentiment_RF\n",
      "0  BBC News - Amazon boss Jeff Bezos rejects clai...                Neutral\n",
      "1  @Microsoft Why do I pay for WORD when it funct...               Negative\n",
      "2  CSGO matchmaking is so full of closet hacking,...               Negative\n",
      "3  Now the President is slapping Americans in the...                Neutral\n",
      "4  Hi @EAHelp I’ve had Madeleine McCann in my cel...               Negative\n"
     ]
    }
   ],
   "source": [
    "import pandas as pd\n",
    "\n",
    "# 1️ Load validation dataset\n",
    "val_file_path = 'data/twitter_validation.csv'\n",
    "val_df = pd.read_csv(val_file_path)\n",
    "\n",
    "# 2️ Rename columns for clarity\n",
    "val_df.columns = ['ID', 'Entity', 'Sentiment', 'Text']\n",
    "\n",
    "# 3️ Clean text (reuse the same clean_text function from before!)\n",
    "val_df['clean_text'] = val_df['Text'].apply(clean_text)\n",
    "\n",
    "# 4️ Vectorize using the trained TF-IDF vectorizer\n",
    "X_val = vectorizer.transform(val_df['clean_text'])\n",
    "\n",
    "# 5️ Predict using the trained Random Forest model\n",
    "val_rf_preds = rf_model.predict(X_val)\n",
    "\n",
    "# 6️ Attach predictions to the DataFrame\n",
    "val_df['Predicted_Sentiment_RF'] = val_rf_preds\n",
    "\n",
    "# 7 Preview\n",
    "print(val_df[['Text', 'Predicted_Sentiment_RF']].head())\n",
    "\n",
    "# Optional: Save to CSV\n",
    "# val_df.to_csv(\"rf_validation_predictions.csv\", index=False)\n"
   ]
  },
  {
   "cell_type": "code",
   "execution_count": 24,
   "id": "de353400",
   "metadata": {},
   "outputs": [
    {
     "name": "stdout",
     "output_type": "stream",
     "text": [
      "Predicted_Sentiment_RF\n",
      "Positive      288\n",
      "Negative      272\n",
      "Neutral       271\n",
      "Irrelevant    168\n",
      "Name: count, dtype: int64\n"
     ]
    }
   ],
   "source": [
    "print(val_df['Predicted_Sentiment_RF'].value_counts())\n"
   ]
  },
  {
   "cell_type": "markdown",
   "id": "18339eae",
   "metadata": {},
   "source": [
    "Once we trained our Random Forest model, it was already performing quite well — achieving approximately 89% accuracy on the validation set. This strong baseline gave us confidence that the model was learning meaningful patterns from the data. However, we also recognized that with some careful hyperparameter tuning, we could potentially improve performance even further to support more accurate and reliable predictions.\n",
    "\n",
    "Initially, we attempted to use GridSearchCV, which exhaustively tests all combinations of hyperparameters. While thorough, this approach proved to be too time-consuming given the size of our dataset and the number of parameter options. To balance efficiency with optimization, we instead used RandomizedSearchCV — a faster, more practical method that samples a limited number of random combinations from the parameter space. This allowed us to fine-tune the model more efficiently while still seeking improved predictive performance."
   ]
  },
  {
   "cell_type": "code",
   "execution_count": 27,
   "id": "c74862a4",
   "metadata": {},
   "outputs": [
    {
     "name": "stdout",
     "output_type": "stream",
     "text": [
      "Fitting 2 folds for each of 4 candidates, totalling 8 fits\n"
     ]
    },
    {
     "name": "stderr",
     "output_type": "stream",
     "text": [
      "[Parallel(n_jobs=-1)]: Using backend LokyBackend with 8 concurrent workers.\n",
      "[Parallel(n_jobs=-1)]: Done   3 out of   8 | elapsed:  1.2min remaining:  2.0min\n",
      "[Parallel(n_jobs=-1)]: Done   8 out of   8 | elapsed:  3.8min remaining:    0.0s\n",
      "[Parallel(n_jobs=-1)]: Done   8 out of   8 | elapsed:  3.8min finished\n"
     ]
    },
    {
     "data": {
      "text/plain": [
       "RandomizedSearchCV(cv=2,\n",
       "                   estimator=Pipeline(steps=[('tfidf',\n",
       "                                              TfidfVectorizer(max_features=2000,\n",
       "                                                              ngram_range=(1,\n",
       "                                                                           2))),\n",
       "                                             ('rf',\n",
       "                                              RandomForestClassifier(class_weight='balanced',\n",
       "                                                                     n_estimators=200,\n",
       "                                                                     random_state=42))]),\n",
       "                   n_iter=4, n_jobs=-1,\n",
       "                   param_distributions={'rf__max_depth': [None, 10, 20],\n",
       "                                        'rf__n_estimators': <scipy.stats._distn_infrastructure.rv_frozen object at 0x0000020A819583A0>},\n",
       "                   random_state=42, verbose=2)"
      ]
     },
     "execution_count": 27,
     "metadata": {},
     "output_type": "execute_result"
    }
   ],
   "source": [
    "from sklearn.model_selection import RandomizedSearchCV\n",
    "from scipy.stats import randint\n",
    "\n",
    "param_distributions = {\n",
    "    'rf__n_estimators': randint(100, 300),\n",
    "    'rf__max_depth': [None, 10, 20],\n",
    "}\n",
    "\n",
    "random_search = RandomizedSearchCV(\n",
    "    rf_pipeline,\n",
    "    param_distributions,\n",
    "    n_iter=4,          # Only try 4 random combinations\n",
    "    cv=2,              # Reduce folds to 2 for faster time\n",
    "    n_jobs=-1,\n",
    "    verbose=2,\n",
    "    random_state=42\n",
    ")\n",
    "\n",
    "random_search.fit(X_train, y_train)"
   ]
  },
  {
   "cell_type": "code",
   "execution_count": 29,
   "id": "069d0a14",
   "metadata": {},
   "outputs": [
    {
     "name": "stdout",
     "output_type": "stream",
     "text": [
      "Best parameters: {'rf__max_depth': None, 'rf__n_estimators': 114}\n"
     ]
    }
   ],
   "source": [
    "best_model = random_search.best_estimator_\n",
    "print(\"Best parameters:\", random_search.best_params_)\n"
   ]
  },
  {
   "cell_type": "markdown",
   "id": "62ba0b42",
   "metadata": {},
   "source": [
    " # Visualize the distribution"
   ]
  },
  {
   "cell_type": "code",
   "execution_count": 27,
   "id": "aa004081",
   "metadata": {},
   "outputs": [
    {
     "data": {
      "image/png": "[encoded data removed]",
      "text/plain": [
       "<Figure size 432x288 with 1 Axes>"
      ]
     },
     "metadata": {
      "needs_background": "light"
     },
     "output_type": "display_data"
    }
   ],
   "source": [
    "\n",
    "import matplotlib.pyplot as plt\n",
    "\n",
    "val_df['Predicted_Sentiment_RF'].value_counts().plot(kind='bar', color='purple')\n",
    "plt.title(\"Predicted Sentiment Distribution (Random Forest)\")\n",
    "plt.xlabel(\"Sentiment\")\n",
    "plt.ylabel(\"Count\")\n",
    "plt.xticks(rotation=45)\n",
    "plt.show()\n"
   ]
  },
  {
   "cell_type": "markdown",
   "id": "cfa96edc",
   "metadata": {},
   "source": [
    "The model predicts a fairly balanced distribution among Positive, Negative, and Neutral sentiments.\n",
    "\n",
    "Slightly fewer tweets classified as Irrelevant — which is common because Irrelevant tweets often share vocabulary with Neutral or Negative sentiments, making them harder to catch confidently.\n",
    "\n",
    "No major class skew, suggesting your model is not heavily biased toward a single sentiment."
   ]
  },
  {
   "cell_type": "markdown",
   "id": "9c5193f6",
   "metadata": {},
   "source": [
    "# **5. Recommendations**\n",
    "1. Monitor and refine over time: As the model is exposed to new tweet streams, set up periodic evaluation cycles to ensure continued performance and relevance, especially as language and sentiment trends evolve.\n",
    "\n",
    "2. Expand to multilingual support: If targeting broader markets, future versions can incorporate multilingual sentiment detection to cover non-English tweets.\n",
    "\n",
    "3. Integrate with dashboards or alert systems: Connect the model to a real-time dashboard or alert system to flag spikes in negative sentiment or trending topics for rapid response.\n",
    "\n",
    "4. Apply sentiment insights across departments: Use aggregated sentiment trends to inform marketing strategies, customer support priorities, and product development feedback loops.\n",
    "\n",
    "5. Leverage advanced models in the background: Over time, the system can experiment with more advanced architectures (e.g., transformers) for deeper contextual understanding while maintaining the current model in production."
   ]
  },
  {
   "cell_type": "markdown",
   "id": "bb53046b",
   "metadata": {},
   "source": [
    "# **6. Conclusion**\n",
    "Once deployed, the model will enable the client to automatically classify large volumes of tweets into actionable sentiment categories **—Positive, Negative, Neutral, and Irrelevant—** providing a scalable and efficient solution for monitoring public perception in real time. It supports critical use cases such as tracking brand sentiment during product launches, identifying sudden spikes in negative feedback, and filtering out noise to focus on high-value conversations.\n",
    "\n",
    "By delivering consistent, multi-class sentiment insights, the system serves as a reliable foundation for automated sentiment analysis, empowering teams across marketing, customer service, and strategy to make informed decisions. As the business evolves, the model can be further refined and integrated into broader analytics pipelines to extract deeper insights, support campaign evaluation, and strengthen long-term brand management."
   ]
  },
  {
   "cell_type": "markdown",
   "id": "6a74008b",
   "metadata": {},
   "source": []
  }
 ],
 "metadata": {
  "kernelspec": {
   "display_name": "learn-env",
   "language": "python",
   "name": "python3"
  },
  "language_info": {
   "codemirror_mode": {
    "name": "ipython",
    "version": 3
   },
   "file_extension": ".py",
   "mimetype": "text/x-python",
   "name": "python",
   "nbconvert_exporter": "python",
   "pygments_lexer": "ipython3",
   "version": "3.8.5"
  }
 },
 "nbformat": 4,
 "nbformat_minor": 5
}
