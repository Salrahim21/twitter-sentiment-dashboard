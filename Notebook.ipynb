{
 "cells": [
  {
   "cell_type": "markdown",
<<<<<<< Updated upstream
   "id": "f8854894",
=======
   "id": "bd8649f8",
   "metadata": {},
   "source": [
    "<img src=\"data/sentiment_picture.png\" width=\"700\"/>\n",
    "\n",
    "\n",
    "# **Social Media Sentiment Analysis**\n",
    "Authors:\n",
    "\n",
    "  - Ibrahim Salim\n",
    "  - Abond Mwangi\n",
    "  - Abigail Muthenya\n",
    "  - Nelson Kamau"
   ]
  },
  {
   "cell_type": "markdown",
   "id": "1e060fc1",
>>>>>>> Stashed changes
   "metadata": {},
   "source": [
    " # Step 1: Loading & preprocessing"
   ]
  },
  {
   "cell_type": "code",
   "execution_count": 33,
   "id": "bf72c73a",
   "metadata": {},
   "outputs": [],
   "source": [
    "\n",
    "import pandas as pd\n",
    "\n",
    "# Load the uploaded CSV file\n",
    "file_path = 'data/twitter_training.csv'\n",
    "df = pd.read_csv(file_path)"
   ]
  },
  {
   "cell_type": "code",
   "execution_count": 34,
   "id": "eff534fc",
   "metadata": {},
   "outputs": [
    {
     "name": "stdout",
     "output_type": "stream",
     "text": [
      "     ID       Entity Sentiment  \\\n",
      "0  2401  Borderlands  Positive   \n",
      "1  2401  Borderlands  Positive   \n",
      "2  2401  Borderlands  Positive   \n",
      "3  2401  Borderlands  Positive   \n",
      "4  2401  Borderlands  Positive   \n",
      "\n",
      "                                                Text  \n",
      "0  I am coming to the borders and I will kill you...  \n",
      "1  im getting on borderlands and i will kill you ...  \n",
      "2  im coming on borderlands and i will murder you...  \n",
      "3  im getting on borderlands 2 and i will murder ...  \n",
      "4  im getting into borderlands and i can murder y...  \n",
      "<class 'pandas.core.frame.DataFrame'>\n",
      "RangeIndex: 74681 entries, 0 to 74680\n",
      "Data columns (total 4 columns):\n",
      " #   Column     Non-Null Count  Dtype \n",
      "---  ------     --------------  ----- \n",
      " 0   ID         74681 non-null  int64 \n",
      " 1   Entity     74681 non-null  object\n",
      " 2   Sentiment  74681 non-null  object\n",
      " 3   Text       73995 non-null  object\n",
      "dtypes: int64(1), object(3)\n",
      "memory usage: 2.3+ MB\n",
      "None\n"
     ]
    }
   ],
   "source": [
    "df.columns = ['ID', 'Entity', 'Sentiment', 'Text']\n",
    "print(df[['ID', 'Entity', 'Sentiment', 'Text']].head())\n",
    "\n",
    "print(df.info())\n",
    "\n",
    "\n"
   ]
  },
  {
   "cell_type": "code",
   "execution_count": 35,
   "id": "99f04820",
   "metadata": {},
   "outputs": [],
   "source": [
    "df.to_csv(\"twitter_training_cleaned.csv\", index=False)\n"
   ]
  },
  {
   "cell_type": "markdown",
   "id": "4bec90b8",
   "metadata": {},
   "source": [
    " # Step 2: Preprocess text"
   ]
  },
  {
   "cell_type": "code",
   "execution_count": 13,
   "id": "601f57d6",
   "metadata": {},
   "outputs": [
    {
     "name": "stderr",
     "output_type": "stream",
     "text": [
      "[nltk_data] Downloading package punkt to\n",
      "[nltk_data]     C:\\Users\\kamau\\AppData\\Roaming\\nltk_data...\n",
      "[nltk_data]   Package punkt is already up-to-date!\n",
      "[nltk_data] Downloading package stopwords to\n",
      "[nltk_data]     C:\\Users\\kamau\\AppData\\Roaming\\nltk_data...\n",
      "[nltk_data]   Package stopwords is already up-to-date!\n",
      "[nltk_data] Downloading package wordnet to\n",
      "[nltk_data]     C:\\Users\\kamau\\AppData\\Roaming\\nltk_data...\n",
      "[nltk_data]   Package wordnet is already up-to-date!\n"
     ]
    },
    {
     "name": "stdout",
     "output_type": "stream",
     "text": [
      "                                                Text  \\\n",
      "0  I am coming to the borders and I will kill you...   \n",
      "1  im getting on borderlands and i will kill you ...   \n",
      "2  im coming on borderlands and i will murder you...   \n",
      "3  im getting on borderlands 2 and i will murder ...   \n",
      "4  im getting into borderlands and i can murder y...   \n",
      "\n",
      "                   clean_text  \n",
      "0            come border kill  \n",
      "1     im get borderlands kill  \n",
      "2  im come borderlands murder  \n",
      "3   im get borderlands murder  \n",
      "4   im get borderlands murder  \n"
     ]
    }
   ],
   "source": [
    "import re\n",
    "import nltk\n",
    "from nltk.tokenize import word_tokenize\n",
    "from nltk.corpus import stopwords\n",
    "from nltk.stem import WordNetLemmatizer\n",
    "\n",
    "nltk.download('punkt')\n",
    "nltk.download('stopwords')\n",
    "nltk.download('wordnet')\n",
    "\n",
    "stop_words = set(stopwords.words('english'))\n",
    "lemmatizer = WordNetLemmatizer()\n",
    "\n",
    "def clean_text(text):\n",
    "    text = str(text).lower()\n",
    "    text = re.sub(r'@[A-Za-z0-9_]+', '', text)  # remove mentions\n",
    "    text = re.sub(r'#[A-Za-z0-9_]+', '', text)  # remove hashtags\n",
    "    text = re.sub(r'http\\S+', '', text)         # remove URLs\n",
    "    text = re.sub(r'[^a-z\\s]', '', text)        # remove non-letters\n",
    "\n",
    "    tokens = word_tokenize(text)\n",
    "    tokens = [t for t in tokens if t not in stop_words]\n",
    "    tokens = [lemmatizer.lemmatize(t, pos='v') for t in tokens]\n",
    "    return ' '.join(tokens)\n",
    "\n",
    "df['clean_text'] = df['Text'].apply(clean_text)\n",
    "print(df[['Text', 'clean_text']].head())\n"
   ]
  },
  {
   "cell_type": "markdown",
<<<<<<< Updated upstream
=======
   "id": "6cd4dd97",
   "metadata": {},
   "source": [
    "## 3.3 Handling the duplicated entries "
   ]
  },
  {
   "cell_type": "code",
   "execution_count": 15,
   "id": "33206dce",
   "metadata": {},
   "outputs": [
    {
     "data": {
      "text/plain": [
       "12221"
      ]
     },
     "execution_count": 15,
     "metadata": {},
     "output_type": "execute_result"
    }
   ],
   "source": [
    "# Count duplicate cleaned tweets\n",
    "df.duplicated(subset=['clean_text']).sum()"
   ]
  },
  {
   "cell_type": "code",
   "execution_count": 16,
   "id": "e6926ff5",
   "metadata": {},
   "outputs": [],
   "source": [
    "# Drop duplicates based on cleaned text\n",
    "df.drop_duplicates(subset=['clean_text'], inplace=True)"
   ]
  },
  {
   "cell_type": "code",
   "execution_count": 17,
   "id": "99f04820",
   "metadata": {},
   "outputs": [],
   "source": [
    "# Save the cleaned DataFrame to a new CSV file\n",
    "df.to_csv(\"twitter_training_cleaned.csv\", index=False)\n"
   ]
  },
  {
   "cell_type": "markdown",
   "id": "d6139147",
   "metadata": {},
   "source": [
    "## 3.4 Check for class imbalances"
   ]
  },
  {
   "cell_type": "code",
   "execution_count": 18,
   "id": "10bd7029",
   "metadata": {},
   "outputs": [
    {
     "name": "stdout",
     "output_type": "stream",
     "text": [
      "Negative      30.580827\n",
      "Positive      26.519248\n",
      "Neutral       25.182115\n",
      "Irrelevant    17.717810\n",
      "Name: Sentiment, dtype: float64\n"
     ]
    }
   ],
   "source": [
    "print(df['Sentiment'].value_counts(normalize=True) * 100)"
   ]
  },
  {
   "cell_type": "markdown",
   "id": "4dd8826e",
   "metadata": {},
   "source": [
    "# **4.0 Modelling**"
   ]
  },
  {
   "cell_type": "markdown",
   "id": "1d75176a",
   "metadata": {},
   "source": [
    "With the data cleaned, prepared, and explored, the next step is to develop and evaluate machine learning models that can accurately classify the sentiment of tweets. This stage involves transforming the text data into numerical features using **natural language processing (NLP)** techniques, selecting suitable algorithms, training the models on labeled examples, and validating their performance.\n",
    "\n",
    "The goal is to identify a model that can generalize well to new, unseen tweets and reliably predict whether a tweet’s sentiment is Positive, Negative, Neutral, or Irrelevant. This section will cover the text vectorization process, model selection, training, and performance evaluation to ensure the final sentiment classifier meets the business requirements for accuracy and reliability."
   ]
  },
  {
   "cell_type": "markdown",
>>>>>>> Stashed changes
   "id": "2fe30802",
   "metadata": {},
   "source": [
    "# Step 3: Vectorize text (TF-IDF)"
   ]
  },
  {
   "cell_type": "code",
   "execution_count": 14,
   "id": "2d0cee50",
   "metadata": {},
   "outputs": [],
   "source": [
    "from sklearn.feature_extraction.text import TfidfVectorizer\n",
    "\n",
    "vectorizer = TfidfVectorizer(max_features=5000)\n",
    "X = vectorizer.fit_transform(df['clean_text'])\n"
   ]
  },
  {
   "cell_type": "markdown",
   "id": "6796bc03",
   "metadata": {},
   "source": [
    "#  Step 4: Prepare target"
   ]
  },
  {
   "cell_type": "code",
   "execution_count": 15,
   "id": "004624dc",
   "metadata": {},
   "outputs": [],
   "source": [
    "y = df['Sentiment']\n"
   ]
  },
  {
   "cell_type": "markdown",
   "id": "0504a795",
   "metadata": {},
   "source": [
    " # Step 5: Split & build model"
   ]
  },
  {
   "cell_type": "code",
   "execution_count": 16,
   "id": "bbd89d21",
   "metadata": {},
   "outputs": [
    {
     "name": "stdout",
     "output_type": "stream",
     "text": [
      "Classification Report:\n",
      "               precision    recall  f1-score   support\n",
      "\n",
      "  Irrelevant       0.67      0.50      0.57      2661\n",
      "    Negative       0.71      0.76      0.74      4471\n",
      "     Neutral       0.60      0.64      0.62      3551\n",
      "    Positive       0.69      0.71      0.70      4254\n",
      "\n",
      "    accuracy                           0.67     14937\n",
      "   macro avg       0.67      0.65      0.66     14937\n",
      "weighted avg       0.67      0.67      0.67     14937\n",
      "\n",
      "Confusion Matrix:\n",
<<<<<<< Updated upstream
      " [[1328  444  408  481]\n",
      " [ 186 3398  532  355]\n",
      " [ 243  518 2282  508]\n",
      " [ 233  412  569 3040]]\n"
=======
      " [[1138  373  279  360]\n",
      " [ 185 3023  361  307]\n",
      " [ 229  454 1897  457]\n",
      " [ 196  337  391 2368]]\n"
>>>>>>> Stashed changes
     ]
    }
   ],
   "source": [
    "from sklearn.model_selection import train_test_split\n",
    "from sklearn.linear_model import LogisticRegression\n",
    "from sklearn.metrics import classification_report, confusion_matrix\n",
    "\n",
    "X_train, X_test, y_train, y_test = train_test_split(X, y, test_size=0.2, random_state=42)\n",
    "\n",
    "model = LogisticRegression(max_iter=1000)\n",
    "model.fit(X_train, y_train)\n",
    "\n",
    "preds = model.predict(X_test)\n",
    "\n",
    "print(\"Classification Report:\\n\", classification_report(y_test, preds))\n",
    "print(\"Confusion Matrix:\\n\", confusion_matrix(y_test, preds))\n"
   ]
  },
  {
   "cell_type": "markdown",
   "id": "56b5e616",
   "metadata": {},
   "source": [
    "# Step 6: Predict example"
   ]
  },
  {
   "cell_type": "code",
   "execution_count": 17,
   "id": "5df1aac0",
   "metadata": {},
   "outputs": [
    {
     "name": "stdout",
     "output_type": "stream",
     "text": [
      "\n",
      "Predicted sentiment: ['Positive']\n"
     ]
    }
   ],
   "source": [
    "example = [\"I absolutely love the new Borderlands game!\"]\n",
    "example_clean = [clean_text(example[0])]\n",
    "example_vec = vectorizer.transform(example_clean)\n",
    "\n",
    "prediction = model.predict(example_vec)\n",
    "print(\"\\nPredicted sentiment:\", prediction)\n"
   ]
  },
  {
   "cell_type": "markdown",
   "id": "8af80f95",
   "metadata": {},
   "source": [
    "#  Random Forest (with bi-grams)"
   ]
  },
  {
   "cell_type": "code",
<<<<<<< Updated upstream
   "execution_count": 21,
=======
   "execution_count": 22,
>>>>>>> Stashed changes
   "id": "aaed2703",
   "metadata": {},
   "outputs": [
    {
     "name": "stdout",
     "output_type": "stream",
     "text": [
      "Random Forest Classification Report:\n",
      "               precision    recall  f1-score   support\n",
      "\n",
<<<<<<< Updated upstream
      "  Irrelevant       0.93      0.78      0.85      2661\n",
      "    Negative       0.89      0.88      0.89      4471\n",
      "     Neutral       0.85      0.84      0.85      3551\n",
      "    Positive       0.81      0.90      0.85      4254\n",
=======
      "  Irrelevant       0.88      0.83      0.86      2150\n",
      "    Negative       0.89      0.92      0.90      3876\n",
      "     Neutral       0.91      0.88      0.90      3037\n",
      "    Positive       0.87      0.89      0.88      3292\n",
>>>>>>> Stashed changes
      "\n",
      "    accuracy                           0.86     14937\n",
      "   macro avg       0.87      0.85      0.86     14937\n",
      "weighted avg       0.87      0.86      0.86     14937\n",
      "\n",
<<<<<<< Updated upstream
      "Random Forest Confusion Matrix:\n",
      " [[2069  166  148  278]\n",
      " [  38 3956  183  294]\n",
      " [  49  168 3000  334]\n",
      " [  58  172  182 3842]]\n"
=======
      "[[1788  128   80  154]\n",
      " [  85 3574   79  138]\n",
      " [  70  149 2679  139]\n",
      " [  87  173   91 2941]]\n"
>>>>>>> Stashed changes
     ]
    }
   ],
   "source": [
    "# ✅ Block 1: Random Forest with bi-grams\n",
    "\n",
    "from sklearn.feature_extraction.text import TfidfVectorizer\n",
    "from sklearn.model_selection import train_test_split\n",
    "from sklearn.ensemble import RandomForestClassifier\n",
    "from sklearn.metrics import classification_report, confusion_matrix\n",
    "\n",
    "# TF-IDF vectorizer with bi-grams\n",
    "vectorizer = TfidfVectorizer(max_features=5000, ngram_range=(1,2))\n",
    "X = vectorizer.fit_transform(df['clean_text'])\n",
    "y = df['Sentiment']\n",
    "\n",
    "# Train/test split\n",
    "X_train, X_test, y_train, y_test = train_test_split(X, y, test_size=0.2, random_state=42)\n",
    "\n",
    "# Random Forest\n",
    "rf_model = RandomForestClassifier(n_estimators=100, random_state=42)\n",
    "rf_model.fit(X_train, y_train)\n",
    "\n",
    "rf_preds = rf_model.predict(X_test)\n",
    "\n",
    "print(\"Random Forest Classification Report:\\n\", classification_report(y_test, rf_preds))\n",
    "print(\"Random Forest Confusion Matrix:\\n\", confusion_matrix(y_test, rf_preds))\n",
    "\n",
    "# # Predict on validation set\n",
    "# val_df['clean_text'] = val_df['Text'].apply(clean_text)\n",
    "# X_val = vectorizer.transform(val_df['clean_text'])\n",
    "# val_rf_preds = rf_model.predict(X_val)\n",
    "# val_df['Pred_RF'] = val_rf_preds\n",
    "\n",
    "# print(val_df[['Text', 'Pred_RF']].head())\n"
   ]
  },
  {
   "cell_type": "code",
<<<<<<< Updated upstream
   "execution_count": 29,
   "id": "b93c35a2",
   "metadata": {},
   "outputs": [
    {
     "data": {
      "text/plain": [
       "Index(['ID', 'Entity', 'Sentiment', 'Text', 'clean_text'], dtype='object')"
      ]
     },
     "execution_count": 29,
     "metadata": {},
     "output_type": "execute_result"
    }
   ],
   "source": [
    "df.columns"
   ]
  },
  {
   "cell_type": "code",
   "execution_count": 28,
=======
   "execution_count": 23,
>>>>>>> Stashed changes
   "id": "b3aacccb",
   "metadata": {},
   "outputs": [
    {
     "name": "stdout",
     "output_type": "stream",
     "text": [
      "✅ Model and vectorizer saved!\n"
     ]
    }
   ],
   "source": [
    "\n",
    "import pickle\n",
    "\n",
    "# Save model and vectorizer\n",
    "with open(\"rf_model.pkl\", \"wb\") as f:\n",
    "    pickle.dump(rf_model, f)\n",
    "\n",
    "with open(\"vectorizer.pkl\", \"wb\") as f:\n",
    "    pickle.dump(vectorizer, f)\n",
    "\n",
    "print(\"✅ Model and vectorizer saved!\")\n"
   ]
  },
  {
   "cell_type": "markdown",
   "id": "c52ff5e2",
   "metadata": {},
   "source": [
    "#  XGBoost (with bi-grams)"
   ]
  },
  {
   "cell_type": "code",
<<<<<<< Updated upstream
   "execution_count": null,
=======
   "execution_count": 24,
>>>>>>> Stashed changes
   "id": "cd298396",
   "metadata": {},
   "outputs": [
    {
<<<<<<< Updated upstream
     "name": "stderr",
     "output_type": "stream",
     "text": [
      "c:\\Users\\ADMIN\\anaconda3\\envs\\learn-env\\lib\\site-packages\\xgboost\\core.py:158: UserWarning: [18:30:35] WARNING: C:\\buildkite-agent\\builds\\buildkite-windows-cpu-autoscaling-group-i-08cbc0333d8d4aae1-1\\xgboost\\xgboost-ci-windows\\src\\learner.cc:740: \n",
      "Parameters: { \"use_label_encoder\" } are not used.\n",
      "\n",
      "  warnings.warn(smsg, UserWarning)\n"
     ]
    },
    {
=======
>>>>>>> Stashed changes
     "name": "stdout",
     "output_type": "stream",
     "text": [
      "[12:01:29] WARNING: C:\\Users\\Administrator\\workspace\\xgboost-win64_release_1.2.0\\src\\learner.cc:516: \n",
      "Parameters: { use_label_encoder } might not be used.\n",
      "\n",
      "  This may not be accurate due to some parameters are only used in language bindings but\n",
      "  passed down to XGBoost core.  Or some parameters are not used but slip through this\n",
      "  verification. Please open an issue if you find above cases.\n",
      "\n",
      "\n",
      "XGBoost Classification Report:\n",
      "               precision    recall  f1-score   support\n",
      "\n",
<<<<<<< Updated upstream
      "  Irrelevant       0.78      0.35      0.48      2661\n",
      "    Negative       0.56      0.85      0.68      4471\n",
      "     Neutral       0.67      0.52      0.59      3551\n",
      "    Positive       0.67      0.66      0.67      4254\n",
      "\n",
      "    accuracy                           0.63     14937\n",
      "   macro avg       0.67      0.60      0.60     14937\n",
      "weighted avg       0.66      0.63      0.62     14937\n",
      "\n",
      "XGBoost Confusion Matrix:\n",
      " [[ 934  910  291  526]\n",
      " [  70 3796  285  320]\n",
      " [ 111 1048 1857  535]\n",
      " [  89 1007  337 2821]]\n"
=======
      "  Irrelevant       0.71      0.37      0.48      2150\n",
      "    Negative       0.61      0.83      0.70      3876\n",
      "     Neutral       0.68      0.56      0.61      3037\n",
      "    Positive       0.64      0.68      0.66      3292\n",
      "\n",
      "    accuracy                           0.64     12355\n",
      "   macro avg       0.66      0.61      0.61     12355\n",
      "weighted avg       0.65      0.64      0.63     12355\n",
      "\n",
      "XGBoost Confusion Matrix:\n",
      " [[ 785  680  216  469]\n",
      " [  88 3217  287  284]\n",
      " [ 104  763 1692  478]\n",
      " [ 123  637  308 2224]]\n"
>>>>>>> Stashed changes
     ]
    }
   ],
   "source": [
    "from sklearn.preprocessing import LabelEncoder\n",
    "from xgboost import XGBClassifier\n",
    "from sklearn.metrics import classification_report, confusion_matrix\n",
    "\n",
    "# Reuse same vectorizer\n",
    "X = vectorizer.fit_transform(df['clean_text'])\n",
    "\n",
    "# Encode y\n",
    "le = LabelEncoder()\n",
    "y_encoded = le.fit_transform(df['Sentiment'])\n",
    "\n",
    "# Train/test split\n",
    "X_train, X_test, y_train, y_test = train_test_split(X, y_encoded, test_size=0.2, random_state=42)\n",
    "\n",
    "# XGBoost\n",
    "xgb_model = XGBClassifier(use_label_encoder=False, eval_metric='mlogloss', random_state=42)\n",
    "xgb_model.fit(X_train, y_train)\n",
    "\n",
    "xgb_preds = xgb_model.predict(X_test)\n",
    "\n",
    "# Decode predictions for reporting\n",
    "xgb_preds_decoded = le.inverse_transform(xgb_preds)\n",
    "y_test_decoded = le.inverse_transform(y_test)\n",
    "\n",
    "print(\"XGBoost Classification Report:\\n\", classification_report(y_test_decoded, xgb_preds_decoded))\n",
    "print(\"XGBoost Confusion Matrix:\\n\", confusion_matrix(y_test_decoded, xgb_preds_decoded))\n",
    "\n",
    "# Predict on validation set\n",
    "# X_val = vectorizer.transform(val_df['clean_text'])\n",
    "# val_xgb_preds_encoded = xgb_model.predict(X_val)\n",
    "# val_xgb_preds = le.inverse_transform(val_xgb_preds_encoded)\n",
    "\n",
    "# val_df['Pred_XGB'] = val_xgb_preds\n",
    "\n",
    "# print(val_df[['Text', 'Pred_XGB']].head())\n",
    " "
   ]
  },
  {
   "cell_type": "markdown",
   "id": "14954805",
   "metadata": {},
   "source": [
    "| Metric        | Random Forest         | XGBoost    |\n",
    "| ------------- | --------------------- | ---------- |\n",
    "| Accuracy      | **86%**               | 63%        |\n",
    "| Macro F1      | **0.86**              | 0.60       |\n",
    "| Best Class    | Negative / Irrelevant | Negative   |\n",
    "| Weakest Class | Irrelevant (recall)   | Irrelevant |\n"
   ]
  },
  {
   "cell_type": "markdown",
   "id": "54c2a784",
   "metadata": {},
   "source": [
    "Your Random Forest model is clearly stronger right now on this feature set (TF-IDF with bigrams).\n",
    "\n",
    "XGBoost struggled here probably because it is more sensitive to class imbalance and requires more hyperparameter tuning to match RF in this case."
   ]
  },
  {
   "cell_type": "markdown",
   "id": "a50e2258",
   "metadata": {},
   "source": [
    " # Load & predict on validation dataset "
   ]
  },
  {
   "cell_type": "code",
<<<<<<< Updated upstream
   "execution_count": 23,
   "id": "4578a7cd",
=======
   "execution_count": 25,
   "id": "59b70215",
>>>>>>> Stashed changes
   "metadata": {},
   "outputs": [
    {
     "name": "stdout",
     "output_type": "stream",
     "text": [
      "                                                Text Predicted_Sentiment_RF\n",
      "0  BBC News - Amazon boss Jeff Bezos rejects clai...                Neutral\n",
      "1  @Microsoft Why do I pay for WORD when it funct...               Negative\n",
      "2  CSGO matchmaking is so full of closet hacking,...               Negative\n",
      "3  Now the President is slapping Americans in the...                Neutral\n",
      "4  Hi @EAHelp I’ve had Madeleine McCann in my cel...               Negative\n"
     ]
    }
   ],
   "source": [
    "import pandas as pd\n",
    "\n",
    "# 1️ Load validation dataset\n",
    "val_file_path = 'data/twitter_validation.csv'\n",
    "val_df = pd.read_csv(val_file_path)\n",
    "\n",
    "# 2️ Rename columns for clarity\n",
    "val_df.columns = ['ID', 'Entity', 'Sentiment', 'Text']\n",
    "\n",
    "# 3️ Clean text (reuse the same clean_text function from before!)\n",
    "val_df['clean_text'] = val_df['Text'].apply(clean_text)\n",
    "\n",
    "# 4️ Vectorize using the trained TF-IDF vectorizer\n",
    "X_val = vectorizer.transform(val_df['clean_text'])\n",
    "\n",
    "# 5️ Predict using the trained Random Forest model\n",
    "val_rf_preds = rf_model.predict(X_val)\n",
    "\n",
    "# 6️ Attach predictions to the DataFrame\n",
    "val_df['Predicted_Sentiment_RF'] = val_rf_preds\n",
    "\n",
    "# 7 Preview\n",
    "print(val_df[['Text', 'Predicted_Sentiment_RF']].head())\n",
    "\n",
    "# Optional: Save to CSV\n",
    "# val_df.to_csv(\"rf_validation_predictions.csv\", index=False)\n"
   ]
  },
  {
   "cell_type": "code",
<<<<<<< Updated upstream
   "execution_count": 24,
=======
   "execution_count": 26,
>>>>>>> Stashed changes
   "id": "de353400",
   "metadata": {},
   "outputs": [
    {
     "name": "stdout",
     "output_type": "stream",
     "text": [
<<<<<<< Updated upstream
      "Predicted_Sentiment_RF\n",
      "Positive      288\n",
      "Negative      272\n",
      "Neutral       271\n",
      "Irrelevant    168\n",
      "Name: count, dtype: int64\n"
=======
      "Neutral       285\n",
      "Positive      278\n",
      "Negative      268\n",
      "Irrelevant    168\n",
      "Name: Predicted_Sentiment_RF, dtype: int64\n"
>>>>>>> Stashed changes
     ]
    }
   ],
   "source": [
    "print(val_df['Predicted_Sentiment_RF'].value_counts())\n"
   ]
  },
  {
   "cell_type": "markdown",
   "id": "18339eae",
   "metadata": {},
   "source": [
    "Once we trained our Random Forest model, it was already performing quite well — achieving approximately 89% accuracy on the validation set. This strong baseline gave us confidence that the model was learning meaningful patterns from the data. However, we also recognized that with some careful hyperparameter tuning, we could potentially improve performance even further to support more accurate and reliable predictions.\n",
    "\n",
    "Initially, we attempted to use GridSearchCV, which exhaustively tests all combinations of hyperparameters. While thorough, this approach proved to be too time-consuming given the size of our dataset and the number of parameter options. To balance efficiency with optimization, we instead used RandomizedSearchCV — a faster, more practical method that samples a limited number of random combinations from the parameter space. This allowed us to fine-tune the model more efficiently while still seeking improved predictive performance."
   ]
  },
  {
   "cell_type": "code",
   "execution_count": 27,
   "id": "c74862a4",
   "metadata": {},
   "outputs": [
    {
     "name": "stdout",
     "output_type": "stream",
     "text": [
      "Fitting 2 folds for each of 4 candidates, totalling 8 fits\n"
     ]
    },
    {
     "name": "stderr",
     "output_type": "stream",
     "text": [
      "[Parallel(n_jobs=-1)]: Using backend LokyBackend with 8 concurrent workers.\n",
      "[Parallel(n_jobs=-1)]: Done   3 out of   8 | elapsed:  1.2min remaining:  2.0min\n",
      "[Parallel(n_jobs=-1)]: Done   8 out of   8 | elapsed:  3.8min remaining:    0.0s\n",
      "[Parallel(n_jobs=-1)]: Done   8 out of   8 | elapsed:  3.8min finished\n"
     ]
    },
    {
     "data": {
      "text/plain": [
       "RandomizedSearchCV(cv=2,\n",
       "                   estimator=Pipeline(steps=[('tfidf',\n",
       "                                              TfidfVectorizer(max_features=2000,\n",
       "                                                              ngram_range=(1,\n",
       "                                                                           2))),\n",
       "                                             ('rf',\n",
       "                                              RandomForestClassifier(class_weight='balanced',\n",
       "                                                                     n_estimators=200,\n",
       "                                                                     random_state=42))]),\n",
       "                   n_iter=4, n_jobs=-1,\n",
       "                   param_distributions={'rf__max_depth': [None, 10, 20],\n",
       "                                        'rf__n_estimators': <scipy.stats._distn_infrastructure.rv_frozen object at 0x0000020A819583A0>},\n",
       "                   random_state=42, verbose=2)"
      ]
     },
     "execution_count": 27,
     "metadata": {},
     "output_type": "execute_result"
    }
   ],
   "source": [
    "from sklearn.model_selection import RandomizedSearchCV\n",
    "from scipy.stats import randint\n",
    "\n",
    "param_distributions = {\n",
    "    'rf__n_estimators': randint(100, 300),\n",
    "    'rf__max_depth': [None, 10, 20],\n",
    "}\n",
    "\n",
    "random_search = RandomizedSearchCV(\n",
    "    rf_pipeline,\n",
    "    param_distributions,\n",
    "    n_iter=4,          # Only try 4 random combinations\n",
    "    cv=2,              # Reduce folds to 2 for faster time\n",
    "    n_jobs=-1,\n",
    "    verbose=2,\n",
    "    random_state=42\n",
    ")\n",
    "\n",
    "random_search.fit(X_train, y_train)"
   ]
  },
  {
   "cell_type": "code",
   "execution_count": 29,
   "id": "069d0a14",
   "metadata": {},
   "outputs": [
    {
     "name": "stdout",
     "output_type": "stream",
     "text": [
      "Best parameters: {'rf__max_depth': None, 'rf__n_estimators': 114}\n"
     ]
    }
   ],
   "source": [
    "best_model = random_search.best_estimator_\n",
    "print(\"Best parameters:\", random_search.best_params_)\n"
   ]
  },
  {
   "cell_type": "markdown",
   "id": "62ba0b42",
   "metadata": {},
   "source": [
    " # Visualize the distribution"
   ]
  },
  {
   "cell_type": "code",
<<<<<<< Updated upstream
   "execution_count": 27,
=======
   "execution_count": 28,
>>>>>>> Stashed changes
   "id": "aa004081",
   "metadata": {},
   "outputs": [
    {
     "data": {
<<<<<<< Updated upstream
      "image/png": "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",
=======
      "image/png": "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",
>>>>>>> Stashed changes
      "text/plain": [
       "<Figure size 432x288 with 1 Axes>"
      ]
     },
     "metadata": {
      "needs_background": "light"
     },
     "output_type": "display_data"
    }
   ],
   "source": [
    "\n",
    "import matplotlib.pyplot as plt\n",
    "\n",
    "val_df['Predicted_Sentiment_RF'].value_counts().plot(kind='bar', color='purple')\n",
    "plt.title(\"Predicted Sentiment Distribution (Random Forest)\")\n",
    "plt.xlabel(\"Sentiment\")\n",
    "plt.ylabel(\"Count\")\n",
    "plt.xticks(rotation=45)\n",
    "plt.show()\n"
   ]
  },
  {
   "cell_type": "markdown",
   "id": "cfa96edc",
   "metadata": {},
   "source": [
    "The model predicts a fairly balanced distribution among Positive, Negative, and Neutral sentiments.\n",
    "\n",
    "Slightly fewer tweets classified as Irrelevant — which is common because Irrelevant tweets often share vocabulary with Neutral or Negative sentiments, making them harder to catch confidently.\n",
    "\n",
    "No major class skew, suggesting your model is not heavily biased toward a single sentiment."
   ]
  },
  {
   "cell_type": "markdown",
   "id": "9c5193f6",
   "metadata": {},
   "source": [
    "# **5. Recommendations**\n",
    "1. Monitor and refine over time: As the model is exposed to new tweet streams, set up periodic evaluation cycles to ensure continued performance and relevance, especially as language and sentiment trends evolve.\n",
    "\n",
    "2. Expand to multilingual support: If targeting broader markets, future versions can incorporate multilingual sentiment detection to cover non-English tweets.\n",
    "\n",
    "3. Integrate with dashboards or alert systems: Connect the model to a real-time dashboard or alert system to flag spikes in negative sentiment or trending topics for rapid response.\n",
    "\n",
    "4. Apply sentiment insights across departments: Use aggregated sentiment trends to inform marketing strategies, customer support priorities, and product development feedback loops.\n",
    "\n",
    "5. Leverage advanced models in the background: Over time, the system can experiment with more advanced architectures (e.g., transformers) for deeper contextual understanding while maintaining the current model in production."
   ]
  },
  {
   "cell_type": "markdown",
   "id": "bb53046b",
   "metadata": {},
   "source": [
    "# **6. Conclusion**\n",
    "Once deployed, the model will enable the client to automatically classify large volumes of tweets into actionable sentiment categories **—Positive, Negative, Neutral, and Irrelevant—** providing a scalable and efficient solution for monitoring public perception in real time. It supports critical use cases such as tracking brand sentiment during product launches, identifying sudden spikes in negative feedback, and filtering out noise to focus on high-value conversations.\n",
    "\n",
    "By delivering consistent, multi-class sentiment insights, the system serves as a reliable foundation for automated sentiment analysis, empowering teams across marketing, customer service, and strategy to make informed decisions. As the business evolves, the model can be further refined and integrated into broader analytics pipelines to extract deeper insights, support campaign evaluation, and strengthen long-term brand management."
   ]
  },
  {
   "cell_type": "markdown",
   "id": "6a74008b",
   "metadata": {},
   "source": []
  }
 ],
 "metadata": {
  "kernelspec": {
   "display_name": "learn-env",
   "language": "python",
   "name": "python3"
  },
  "language_info": {
   "codemirror_mode": {
    "name": "ipython",
    "version": 3
   },
   "file_extension": ".py",
   "mimetype": "text/x-python",
   "name": "python",
   "nbconvert_exporter": "python",
   "pygments_lexer": "ipython3",
   "version": "3.8.5"
  }
 },
 "nbformat": 4,
 "nbformat_minor": 5
}
